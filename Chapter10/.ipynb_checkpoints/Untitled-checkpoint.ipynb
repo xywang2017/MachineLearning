{
 "cells": [
  {
   "cell_type": "code",
   "execution_count": 51,
   "id": "5da5ddbe",
   "metadata": {},
   "outputs": [],
   "source": [
    "import tensorflow as tf\n",
    "from tensorflow import keras\n",
    "import pandas as pd\n",
    "import matplotlib.pyplot as plt"
   ]
  },
  {
   "cell_type": "code",
   "execution_count": 2,
   "id": "253b4bb5",
   "metadata": {},
   "outputs": [
    {
     "data": {
      "text/plain": [
       "'2.6.0'"
      ]
     },
     "execution_count": 2,
     "metadata": {},
     "output_type": "execute_result"
    }
   ],
   "source": [
    "tf.__version__"
   ]
  },
  {
   "cell_type": "code",
   "execution_count": 3,
   "id": "2f294f42",
   "metadata": {},
   "outputs": [
    {
     "data": {
      "text/plain": [
       "'2.6.0'"
      ]
     },
     "execution_count": 3,
     "metadata": {},
     "output_type": "execute_result"
    }
   ],
   "source": [
    "keras.__version__"
   ]
  },
  {
   "cell_type": "code",
   "execution_count": 95,
   "id": "0aaba9f6",
   "metadata": {},
   "outputs": [],
   "source": [
    "fashion_mnist = keras.datasets.fashion_mnist\n",
    "(X_train_full, y_train_full), (X_test, y_test) = fashion_mnist.load_data()"
   ]
  },
  {
   "cell_type": "code",
   "execution_count": 96,
   "id": "6049034e",
   "metadata": {},
   "outputs": [],
   "source": [
    "X_valid, X_train = X_train_full[:5000]/255.0, X_train_full[5000:]/255.0\n",
    "y_valid, y_train = y_train_full[:5000], y_train_full[5000:]"
   ]
  },
  {
   "cell_type": "markdown",
   "id": "b19e9c27",
   "metadata": {},
   "source": [
    "## Classification MLP with two hidden layers"
   ]
  },
  {
   "cell_type": "code",
   "execution_count": 97,
   "id": "fde2f2c9",
   "metadata": {},
   "outputs": [],
   "source": [
    "model = keras.models.Sequential()\n",
    "model.add(keras.layers.Flatten(input_shape=[28,28]))\n",
    "model.add(keras.layers.Dense(300,activation=\"relu\"))\n",
    "model.add(keras.layers.Dense(100,activation=\"relu\"))\n",
    "model.add(keras.layers.Dense(10,activation=\"softmax\"))"
   ]
  },
  {
   "cell_type": "markdown",
   "id": "6a19d820",
   "metadata": {},
   "source": [
    "### above is equivalent to specify the model via a array\n",
    "model = keras.models.Sequential([\n",
    "keras.layers.Flatten(input_shape=[28,28]),\n",
    "keras.layers.Dense(300,activation=\"relu\")\n",
    "keras.layers.Dense(100,activation=\"relu\"),\n",
    "keras.layers.Dense(10,activation=\"softmax\")\n",
    "])"
   ]
  },
  {
   "cell_type": "code",
   "execution_count": 98,
   "id": "c62d01cc",
   "metadata": {},
   "outputs": [
    {
     "name": "stdout",
     "output_type": "stream",
     "text": [
      "Model: \"sequential_5\"\n",
      "_________________________________________________________________\n",
      "Layer (type)                 Output Shape              Param #   \n",
      "=================================================================\n",
      "flatten_4 (Flatten)          (None, 784)               0         \n",
      "_________________________________________________________________\n",
      "dense_24 (Dense)             (None, 300)               235500    \n",
      "_________________________________________________________________\n",
      "dense_25 (Dense)             (None, 100)               30100     \n",
      "_________________________________________________________________\n",
      "dense_26 (Dense)             (None, 10)                1010      \n",
      "=================================================================\n",
      "Total params: 266,610\n",
      "Trainable params: 266,610\n",
      "Non-trainable params: 0\n",
      "_________________________________________________________________\n"
     ]
    }
   ],
   "source": [
    "model.summary()"
   ]
  },
  {
   "cell_type": "code",
   "execution_count": 30,
   "id": "f3d30d94",
   "metadata": {},
   "outputs": [
    {
     "data": {
      "text/plain": [
       "[array([[-0.067862  , -0.05659477,  0.00323225, ...,  0.04678162,\n",
       "          0.05675808, -0.00247268],\n",
       "        [-0.05683213,  0.02368422,  0.03002822, ..., -0.02742286,\n",
       "         -0.00315484,  0.05786936],\n",
       "        [ 0.07198191, -0.02257229, -0.04367535, ...,  0.00260413,\n",
       "          0.01161171,  0.03588618],\n",
       "        ...,\n",
       "        [ 0.06251726, -0.0428813 ,  0.03766396, ...,  0.0283577 ,\n",
       "          0.06132473,  0.00126199],\n",
       "        [-0.06700384, -0.02336402,  0.01971057, ..., -0.06506869,\n",
       "          0.02823671, -0.06325663],\n",
       "        [ 0.03462599,  0.0472096 ,  0.04020333, ...,  0.03544644,\n",
       "         -0.0284065 ,  0.04623077]], dtype=float32),\n",
       " array([0., 0., 0., 0., 0., 0., 0., 0., 0., 0., 0., 0., 0., 0., 0., 0., 0.,\n",
       "        0., 0., 0., 0., 0., 0., 0., 0., 0., 0., 0., 0., 0., 0., 0., 0., 0.,\n",
       "        0., 0., 0., 0., 0., 0., 0., 0., 0., 0., 0., 0., 0., 0., 0., 0., 0.,\n",
       "        0., 0., 0., 0., 0., 0., 0., 0., 0., 0., 0., 0., 0., 0., 0., 0., 0.,\n",
       "        0., 0., 0., 0., 0., 0., 0., 0., 0., 0., 0., 0., 0., 0., 0., 0., 0.,\n",
       "        0., 0., 0., 0., 0., 0., 0., 0., 0., 0., 0., 0., 0., 0., 0., 0., 0.,\n",
       "        0., 0., 0., 0., 0., 0., 0., 0., 0., 0., 0., 0., 0., 0., 0., 0., 0.,\n",
       "        0., 0., 0., 0., 0., 0., 0., 0., 0., 0., 0., 0., 0., 0., 0., 0., 0.,\n",
       "        0., 0., 0., 0., 0., 0., 0., 0., 0., 0., 0., 0., 0., 0., 0., 0., 0.,\n",
       "        0., 0., 0., 0., 0., 0., 0., 0., 0., 0., 0., 0., 0., 0., 0., 0., 0.,\n",
       "        0., 0., 0., 0., 0., 0., 0., 0., 0., 0., 0., 0., 0., 0., 0., 0., 0.,\n",
       "        0., 0., 0., 0., 0., 0., 0., 0., 0., 0., 0., 0., 0., 0., 0., 0., 0.,\n",
       "        0., 0., 0., 0., 0., 0., 0., 0., 0., 0., 0., 0., 0., 0., 0., 0., 0.,\n",
       "        0., 0., 0., 0., 0., 0., 0., 0., 0., 0., 0., 0., 0., 0., 0., 0., 0.,\n",
       "        0., 0., 0., 0., 0., 0., 0., 0., 0., 0., 0., 0., 0., 0., 0., 0., 0.,\n",
       "        0., 0., 0., 0., 0., 0., 0., 0., 0., 0., 0., 0., 0., 0., 0., 0., 0.,\n",
       "        0., 0., 0., 0., 0., 0., 0., 0., 0., 0., 0., 0., 0., 0., 0., 0., 0.,\n",
       "        0., 0., 0., 0., 0., 0., 0., 0., 0., 0., 0.], dtype=float32)]"
      ]
     },
     "execution_count": 30,
     "metadata": {},
     "output_type": "execute_result"
    }
   ],
   "source": [
    "model.get_layer('dense_9').get_weights()"
   ]
  },
  {
   "cell_type": "code",
   "execution_count": 99,
   "id": "79d1cd48",
   "metadata": {},
   "outputs": [],
   "source": [
    "model.compile(loss=\"sparse_categorical_crossentropy\",\n",
    "             optimizer=\"sgd\",\n",
    "             metrics=[\"accuracy\"])"
   ]
  },
  {
   "cell_type": "code",
   "execution_count": 53,
   "id": "5ddb215f",
   "metadata": {},
   "outputs": [
    {
     "name": "stdout",
     "output_type": "stream",
     "text": [
      "Epoch 1/30\n",
      "1719/1719 [==============================] - 7s 4ms/step - loss: 0.2231 - accuracy: 0.9199 - val_loss: 0.2960 - val_accuracy: 0.8936\n",
      "Epoch 2/30\n",
      "1719/1719 [==============================] - 7s 4ms/step - loss: 0.2205 - accuracy: 0.9214 - val_loss: 0.2973 - val_accuracy: 0.8930\n",
      "Epoch 3/30\n",
      "1719/1719 [==============================] - 7s 4ms/step - loss: 0.2174 - accuracy: 0.9221 - val_loss: 0.2910 - val_accuracy: 0.8936\n",
      "Epoch 4/30\n",
      "1719/1719 [==============================] - 8s 4ms/step - loss: 0.2134 - accuracy: 0.9239 - val_loss: 0.2966 - val_accuracy: 0.8952\n",
      "Epoch 5/30\n",
      "1719/1719 [==============================] - 7s 4ms/step - loss: 0.2101 - accuracy: 0.9251 - val_loss: 0.2898 - val_accuracy: 0.8966\n",
      "Epoch 6/30\n",
      "1719/1719 [==============================] - 8s 5ms/step - loss: 0.2066 - accuracy: 0.9256 - val_loss: 0.2917 - val_accuracy: 0.8964\n",
      "Epoch 7/30\n",
      "1719/1719 [==============================] - 8s 4ms/step - loss: 0.2036 - accuracy: 0.9268 - val_loss: 0.2873 - val_accuracy: 0.8968\n",
      "Epoch 8/30\n",
      "1719/1719 [==============================] - 7s 4ms/step - loss: 0.2002 - accuracy: 0.9280 - val_loss: 0.2858 - val_accuracy: 0.8976\n",
      "Epoch 9/30\n",
      "1719/1719 [==============================] - 7s 4ms/step - loss: 0.1960 - accuracy: 0.9308 - val_loss: 0.3076 - val_accuracy: 0.8900\n",
      "Epoch 10/30\n",
      "1719/1719 [==============================] - 7s 4ms/step - loss: 0.1937 - accuracy: 0.9313 - val_loss: 0.3122 - val_accuracy: 0.8896\n",
      "Epoch 11/30\n",
      "1719/1719 [==============================] - 7s 4ms/step - loss: 0.1919 - accuracy: 0.9312 - val_loss: 0.2904 - val_accuracy: 0.8980\n",
      "Epoch 12/30\n",
      "1719/1719 [==============================] - 7s 4ms/step - loss: 0.1887 - accuracy: 0.9337 - val_loss: 0.2785 - val_accuracy: 0.8992\n",
      "Epoch 13/30\n",
      "1719/1719 [==============================] - 8s 4ms/step - loss: 0.1855 - accuracy: 0.9341 - val_loss: 0.2968 - val_accuracy: 0.8974\n",
      "Epoch 14/30\n",
      "1719/1719 [==============================] - 8s 4ms/step - loss: 0.1825 - accuracy: 0.9351 - val_loss: 0.2957 - val_accuracy: 0.8942\n",
      "Epoch 15/30\n",
      "1719/1719 [==============================] - 8s 4ms/step - loss: 0.1799 - accuracy: 0.9361 - val_loss: 0.2956 - val_accuracy: 0.8954\n",
      "Epoch 16/30\n",
      "1719/1719 [==============================] - 8s 4ms/step - loss: 0.1757 - accuracy: 0.9380 - val_loss: 0.2889 - val_accuracy: 0.8996\n",
      "Epoch 17/30\n",
      "1719/1719 [==============================] - 8s 4ms/step - loss: 0.1744 - accuracy: 0.9384 - val_loss: 0.2990 - val_accuracy: 0.8980\n",
      "Epoch 18/30\n",
      "1719/1719 [==============================] - 8s 5ms/step - loss: 0.1707 - accuracy: 0.9398 - val_loss: 0.2804 - val_accuracy: 0.8994\n",
      "Epoch 19/30\n",
      "1719/1719 [==============================] - 8s 4ms/step - loss: 0.1692 - accuracy: 0.9402 - val_loss: 0.2860 - val_accuracy: 0.8992\n",
      "Epoch 20/30\n",
      "1719/1719 [==============================] - 8s 4ms/step - loss: 0.1665 - accuracy: 0.9409 - val_loss: 0.2831 - val_accuracy: 0.8994\n",
      "Epoch 21/30\n",
      "1719/1719 [==============================] - 8s 4ms/step - loss: 0.1635 - accuracy: 0.9429 - val_loss: 0.3355 - val_accuracy: 0.8832\n",
      "Epoch 22/30\n",
      "1719/1719 [==============================] - 8s 4ms/step - loss: 0.1599 - accuracy: 0.9437 - val_loss: 0.2860 - val_accuracy: 0.8998\n",
      "Epoch 23/30\n",
      "1719/1719 [==============================] - 8s 5ms/step - loss: 0.1579 - accuracy: 0.9439 - val_loss: 0.2816 - val_accuracy: 0.8998\n",
      "Epoch 24/30\n",
      "1719/1719 [==============================] - 8s 4ms/step - loss: 0.1558 - accuracy: 0.9444 - val_loss: 0.2883 - val_accuracy: 0.9028\n",
      "Epoch 25/30\n",
      "1719/1719 [==============================] - 8s 4ms/step - loss: 0.1533 - accuracy: 0.9455 - val_loss: 0.2950 - val_accuracy: 0.8976\n",
      "Epoch 26/30\n",
      "1719/1719 [==============================] - 8s 4ms/step - loss: 0.1517 - accuracy: 0.9462 - val_loss: 0.3146 - val_accuracy: 0.8944\n",
      "Epoch 27/30\n",
      "1719/1719 [==============================] - 8s 4ms/step - loss: 0.1488 - accuracy: 0.9473 - val_loss: 0.2923 - val_accuracy: 0.8968\n",
      "Epoch 28/30\n",
      "1719/1719 [==============================] - 8s 4ms/step - loss: 0.1460 - accuracy: 0.9480 - val_loss: 0.2976 - val_accuracy: 0.8994\n",
      "Epoch 29/30\n",
      "1719/1719 [==============================] - 8s 4ms/step - loss: 0.1428 - accuracy: 0.9499 - val_loss: 0.2960 - val_accuracy: 0.8990\n",
      "Epoch 30/30\n",
      "1719/1719 [==============================] - 8s 5ms/step - loss: 0.1417 - accuracy: 0.9506 - val_loss: 0.2999 - val_accuracy: 0.8962\n"
     ]
    }
   ],
   "source": [
    "history = model.fit(X_train,y_train, epochs =30, validation_data=(X_valid,y_valid))"
   ]
  },
  {
   "cell_type": "code",
   "execution_count": 54,
   "id": "dc13c276",
   "metadata": {},
   "outputs": [],
   "source": [
    "df = pd.DataFrame(history.history)"
   ]
  },
  {
   "cell_type": "code",
   "execution_count": 55,
   "id": "411df7ce",
   "metadata": {},
   "outputs": [
    {
     "data": {
      "image/png": "[encoded data removed]",
      "text/plain": [
       "<Figure size 432x288 with 1 Axes>"
      ]
     },
     "metadata": {
      "needs_background": "light"
     },
     "output_type": "display_data"
    }
   ],
   "source": [
    "df.plot()\n",
    "plt.show()"
   ]
  },
  {
   "cell_type": "code",
   "execution_count": 57,
   "id": "8aa99958",
   "metadata": {},
   "outputs": [
    {
     "name": "stdout",
     "output_type": "stream",
     "text": [
      "313/313 [==============================] - 1s 3ms/step - loss: 0.3414 - accuracy: 0.8857\n"
     ]
    },
    {
     "data": {
      "text/plain": [
       "[0.3413647413253784, 0.8857000470161438]"
      ]
     },
     "execution_count": 57,
     "metadata": {},
     "output_type": "execute_result"
    }
   ],
   "source": [
    "model.evaluate(X_test/255.0,y_test)"
   ]
  },
  {
   "cell_type": "code",
   "execution_count": 59,
   "id": "f834f9c7",
   "metadata": {},
   "outputs": [
    {
     "name": "stderr",
     "output_type": "stream",
     "text": [
      "2022-01-25 22:19:37.786398: I tensorflow/core/grappler/optimizers/custom_graph_optimizer_registry.cc:112] Plugin optimizer for device_type GPU is enabled.\n"
     ]
    },
    {
     "data": {
      "text/plain": [
       "array([[0., 0., 0., 0., 0., 0., 0., 0., 0., 1.],\n",
       "       [0., 0., 1., 0., 0., 0., 0., 0., 0., 0.],\n",
       "       [0., 1., 0., 0., 0., 0., 0., 0., 0., 0.]], dtype=float32)"
      ]
     },
     "execution_count": 59,
     "metadata": {},
     "output_type": "execute_result"
    }
   ],
   "source": [
    "X_new = X_test[:3]\n",
    "model.predict(X_new)"
   ]
  },
  {
   "cell_type": "code",
   "execution_count": 62,
   "id": "327138bc",
   "metadata": {},
   "outputs": [
    {
     "ename": "AttributeError",
     "evalue": "'Sequential' object has no attribute 'predict_classes'",
     "output_type": "error",
     "traceback": [
      "\u001b[0;31m---------------------------------------------------------------------------\u001b[0m",
      "\u001b[0;31mAttributeError\u001b[0m                            Traceback (most recent call last)",
      "\u001b[0;32m/var/folders/m4/cmp09r814mq6ptl9_hb8qqlh0000gn/T/ipykernel_4938/828648325.py\u001b[0m in \u001b[0;36m<module>\u001b[0;34m\u001b[0m\n\u001b[0;32m----> 1\u001b[0;31m \u001b[0mmodel\u001b[0m\u001b[0;34m.\u001b[0m\u001b[0mpredict_classes\u001b[0m\u001b[0;34m(\u001b[0m\u001b[0mX_new\u001b[0m\u001b[0;34m)\u001b[0m\u001b[0;34m\u001b[0m\u001b[0;34m\u001b[0m\u001b[0m\n\u001b[0m",
      "\u001b[0;31mAttributeError\u001b[0m: 'Sequential' object has no attribute 'predict_classes'"
     ]
    }
   ],
   "source": [
    "model.predict_classes(X_new)"
   ]
  },
  {
   "cell_type": "markdown",
   "id": "2fe8b7d6",
   "metadata": {},
   "source": [
    "## California housing regression MLP"
   ]
  },
  {
   "cell_type": "code",
   "execution_count": 83,
   "id": "80b5e331",
   "metadata": {},
   "outputs": [],
   "source": [
    "from sklearn.datasets import fetch_california_housing\n",
    "from sklearn.model_selection import train_test_split\n",
    "from sklearn.preprocessing import StandardScaler\n",
    "\n",
    "housing = fetch_california_housing()\n",
    "X_train_full, X_test, y_train_full, y_test = train_test_split(housing.data, housing.target)\n",
    "X_train, X_valid, y_train, y_valid = train_test_split(X_train_full, y_train_full)\n",
    "\n",
    "scaler = StandardScaler()\n",
    "X_train = scaler.fit_transform(X_train)\n",
    "X_valid = scaler.transform(X_valid)\n",
    "X_test = scaler.transform(X_test)"
   ]
  },
  {
   "cell_type": "code",
   "execution_count": 67,
   "id": "0915a6c7",
   "metadata": {},
   "outputs": [
    {
     "name": "stdout",
     "output_type": "stream",
     "text": [
      "Epoch 1/20\n"
     ]
    },
    {
     "name": "stderr",
     "output_type": "stream",
     "text": [
      "2022-01-25 22:39:24.053176: I tensorflow/core/grappler/optimizers/custom_graph_optimizer_registry.cc:112] Plugin optimizer for device_type GPU is enabled.\n"
     ]
    },
    {
     "name": "stdout",
     "output_type": "stream",
     "text": [
      "363/363 [==============================] - 2s 3ms/step - loss: 1.0204 - val_loss: 0.9497\n",
      "Epoch 2/20\n",
      "  1/363 [..............................] - ETA: 1s - loss: 0.5330"
     ]
    },
    {
     "name": "stderr",
     "output_type": "stream",
     "text": [
      "2022-01-25 22:39:25.473480: I tensorflow/core/grappler/optimizers/custom_graph_optimizer_registry.cc:112] Plugin optimizer for device_type GPU is enabled.\n"
     ]
    },
    {
     "name": "stdout",
     "output_type": "stream",
     "text": [
      "363/363 [==============================] - 1s 3ms/step - loss: 0.8601 - val_loss: 0.4929\n",
      "Epoch 3/20\n",
      "363/363 [==============================] - 1s 3ms/step - loss: 0.4691 - val_loss: 0.4494\n",
      "Epoch 4/20\n",
      "363/363 [==============================] - 1s 3ms/step - loss: 0.4366 - val_loss: 0.4280\n",
      "Epoch 5/20\n",
      "363/363 [==============================] - 1s 3ms/step - loss: 0.4180 - val_loss: 0.4089\n",
      "Epoch 6/20\n",
      "363/363 [==============================] - 1s 3ms/step - loss: 0.4035 - val_loss: 0.3962\n",
      "Epoch 7/20\n",
      "363/363 [==============================] - 1s 3ms/step - loss: 0.3989 - val_loss: 0.3867\n",
      "Epoch 8/20\n",
      "363/363 [==============================] - 1s 3ms/step - loss: 0.3938 - val_loss: 0.3907\n",
      "Epoch 9/20\n",
      "363/363 [==============================] - 1s 3ms/step - loss: 0.3893 - val_loss: 0.3775\n",
      "Epoch 10/20\n",
      "363/363 [==============================] - 1s 3ms/step - loss: 0.3858 - val_loss: 0.3739\n",
      "Epoch 11/20\n",
      "363/363 [==============================] - 1s 3ms/step - loss: 0.3828 - val_loss: 0.3730\n",
      "Epoch 12/20\n",
      "363/363 [==============================] - 1s 3ms/step - loss: 0.3829 - val_loss: 0.3672\n",
      "Epoch 13/20\n",
      "363/363 [==============================] - 1s 3ms/step - loss: 0.3815 - val_loss: 0.3681\n",
      "Epoch 14/20\n",
      "363/363 [==============================] - 1s 3ms/step - loss: 0.3805 - val_loss: 0.3637\n",
      "Epoch 15/20\n",
      "363/363 [==============================] - 1s 3ms/step - loss: 0.3739 - val_loss: 0.3630\n",
      "Epoch 16/20\n",
      "363/363 [==============================] - 1s 3ms/step - loss: 0.3723 - val_loss: 0.3608\n",
      "Epoch 17/20\n",
      "363/363 [==============================] - 1s 3ms/step - loss: 0.3747 - val_loss: 0.3603\n",
      "Epoch 18/20\n",
      "363/363 [==============================] - 1s 3ms/step - loss: 0.3696 - val_loss: 0.3613\n",
      "Epoch 19/20\n",
      "363/363 [==============================] - 1s 3ms/step - loss: 0.3687 - val_loss: 0.3599\n",
      "Epoch 20/20\n",
      "363/363 [==============================] - 1s 3ms/step - loss: 0.3650 - val_loss: 0.3583\n"
     ]
    }
   ],
   "source": [
    "model = keras.models.Sequential([\n",
    "    keras.layers.Dense(30,activation=\"relu\",input_shape=X_train.shape[1:]),\n",
    "    keras.layers.Dense(1)\n",
    "])\n",
    "model.compile(loss=\"mean_squared_error\",optimizer=\"sgd\")\n",
    "history = model.fit(X_train,y_train,epochs=20,validation_data=(X_valid,y_valid))"
   ]
  },
  {
   "cell_type": "code",
   "execution_count": 68,
   "id": "c8784c49",
   "metadata": {},
   "outputs": [
    {
     "name": "stdout",
     "output_type": "stream",
     "text": [
      "162/162 [==============================] - 0s 2ms/step - loss: 0.3577\n"
     ]
    }
   ],
   "source": [
    "mse_test = model.evaluate(X_test,y_test)"
   ]
  },
  {
   "cell_type": "code",
   "execution_count": 69,
   "id": "7223f7bd",
   "metadata": {},
   "outputs": [
    {
     "name": "stderr",
     "output_type": "stream",
     "text": [
      "2022-01-25 22:40:28.726526: I tensorflow/core/grappler/optimizers/custom_graph_optimizer_registry.cc:112] Plugin optimizer for device_type GPU is enabled.\n"
     ]
    }
   ],
   "source": [
    "X_new = X_test[:3]\n",
    "y_predict = model.predict(X_new)"
   ]
  },
  {
   "cell_type": "code",
   "execution_count": 70,
   "id": "359a185a",
   "metadata": {},
   "outputs": [
    {
     "data": {
      "text/plain": [
       "array([[2.7958665],\n",
       "       [2.1217656],\n",
       "       [2.4688296]], dtype=float32)"
      ]
     },
     "execution_count": 70,
     "metadata": {},
     "output_type": "execute_result"
    }
   ],
   "source": [
    "y_predict"
   ]
  },
  {
   "cell_type": "code",
   "execution_count": 71,
   "id": "c510a436",
   "metadata": {},
   "outputs": [],
   "source": [
    "model.save(\"my_keras_model.h5\")"
   ]
  },
  {
   "cell_type": "code",
   "execution_count": 72,
   "id": "4111dd10",
   "metadata": {},
   "outputs": [],
   "source": [
    "model = keras.models.load_model(\"my_keras_model.h5\")"
   ]
  },
  {
   "cell_type": "code",
   "execution_count": 76,
   "id": "39594b9c",
   "metadata": {},
   "outputs": [
    {
     "name": "stdout",
     "output_type": "stream",
     "text": [
      "Epoch 1/10\n",
      " 66/363 [====>.........................] - ETA: 0s - loss: 0.3773"
     ]
    },
    {
     "name": "stderr",
     "output_type": "stream",
     "text": [
      "2022-01-26 00:54:45.715445: I tensorflow/core/grappler/optimizers/custom_graph_optimizer_registry.cc:112] Plugin optimizer for device_type GPU is enabled.\n"
     ]
    },
    {
     "name": "stdout",
     "output_type": "stream",
     "text": [
      "363/363 [==============================] - 1s 2ms/step - loss: 0.3645\n",
      "Epoch 2/10\n",
      "363/363 [==============================] - 1s 2ms/step - loss: 0.3619\n",
      "Epoch 3/10\n",
      "363/363 [==============================] - 1s 2ms/step - loss: 0.3607\n",
      "Epoch 4/10\n",
      "363/363 [==============================] - 1s 2ms/step - loss: 0.3593\n",
      "Epoch 5/10\n",
      "363/363 [==============================] - 1s 2ms/step - loss: 0.3576\n",
      "Epoch 6/10\n",
      "363/363 [==============================] - 1s 2ms/step - loss: 0.3569\n",
      "Epoch 7/10\n",
      "363/363 [==============================] - 1s 2ms/step - loss: 0.3544\n",
      "Epoch 8/10\n",
      "363/363 [==============================] - 1s 2ms/step - loss: 0.3526\n",
      "Epoch 9/10\n",
      "363/363 [==============================] - 1s 2ms/step - loss: 0.3501\n",
      "Epoch 10/10\n",
      "363/363 [==============================] - 1s 2ms/step - loss: 0.3486\n"
     ]
    }
   ],
   "source": [
    "checkpoint_cb = keras.callbacks.ModelCheckpoint(\"my_keras_model.h5\")\n",
    "history = model.fit(X_train,y_train,epochs=10,callbacks=[checkpoint_cb])"
   ]
  },
  {
   "cell_type": "markdown",
   "id": "159b410b",
   "metadata": {},
   "source": [
    "## More common functional API"
   ]
  },
  {
   "cell_type": "code",
   "execution_count": 85,
   "id": "ebe084f7",
   "metadata": {},
   "outputs": [],
   "source": [
    "input_ = keras.layers.Input(shape=X_train.shape[1:])\n",
    "hidden1 = keras.layers.Dense(30,activation=\"relu\")(input_)\n",
    "hidden2 = keras.layers.Dense(30,activation=\"relu\")(hidden1)\n",
    "concat = keras.layers.Concatenate()([input_,hidden2])\n",
    "output = keras.layers.Dense(1)(concat)\n",
    "model=keras.Model(inputs=[input_],outputs=[output])"
   ]
  },
  {
   "cell_type": "code",
   "execution_count": 86,
   "id": "98608119",
   "metadata": {},
   "outputs": [],
   "source": [
    "model.compile(loss=\"mean_squared_error\",optimizer=\"sgd\")"
   ]
  },
  {
   "cell_type": "code",
   "execution_count": 87,
   "id": "3d926673",
   "metadata": {},
   "outputs": [
    {
     "name": "stdout",
     "output_type": "stream",
     "text": [
      "Epoch 1/10\n",
      " 58/363 [===>..........................] - ETA: 0s - loss: 2.2789"
     ]
    },
    {
     "name": "stderr",
     "output_type": "stream",
     "text": [
      "2022-01-26 16:17:34.130205: I tensorflow/core/grappler/optimizers/custom_graph_optimizer_registry.cc:112] Plugin optimizer for device_type GPU is enabled.\n"
     ]
    },
    {
     "name": "stdout",
     "output_type": "stream",
     "text": [
      "363/363 [==============================] - 1s 3ms/step - loss: 1.1926 - val_loss: 0.7696\n",
      "Epoch 2/10\n",
      "  1/363 [..............................] - ETA: 1s - loss: 0.4788"
     ]
    },
    {
     "name": "stderr",
     "output_type": "stream",
     "text": [
      "2022-01-26 16:17:35.174146: I tensorflow/core/grappler/optimizers/custom_graph_optimizer_registry.cc:112] Plugin optimizer for device_type GPU is enabled.\n"
     ]
    },
    {
     "name": "stdout",
     "output_type": "stream",
     "text": [
      "363/363 [==============================] - 1s 3ms/step - loss: 0.6629 - val_loss: 0.6825\n",
      "Epoch 3/10\n",
      "363/363 [==============================] - 1s 3ms/step - loss: 0.4630 - val_loss: 1.0733\n",
      "Epoch 4/10\n",
      "363/363 [==============================] - 1s 3ms/step - loss: 1.2692 - val_loss: 0.6446\n",
      "Epoch 5/10\n",
      "363/363 [==============================] - 1s 3ms/step - loss: 0.5713 - val_loss: 0.5068\n",
      "Epoch 6/10\n",
      "363/363 [==============================] - 1s 3ms/step - loss: 0.4555 - val_loss: 0.3923\n",
      "Epoch 7/10\n",
      "363/363 [==============================] - 1s 3ms/step - loss: 0.3758 - val_loss: 0.3778\n",
      "Epoch 8/10\n",
      "363/363 [==============================] - 1s 3ms/step - loss: 0.3595 - val_loss: 0.3631\n",
      "Epoch 9/10\n",
      "363/363 [==============================] - 1s 3ms/step - loss: 0.3500 - val_loss: 0.3508\n",
      "Epoch 10/10\n",
      "363/363 [==============================] - 1s 3ms/step - loss: 0.3442 - val_loss: 0.3513\n"
     ]
    }
   ],
   "source": [
    "history = model.fit(X_train,y_train,epochs=10,validation_data=(X_valid,y_valid))"
   ]
  },
  {
   "cell_type": "markdown",
   "id": "1aa7c66f",
   "metadata": {},
   "source": [
    "## Subclassing API to build dynamic models"
   ]
  },
  {
   "cell_type": "code",
   "execution_count": 88,
   "id": "d859871b",
   "metadata": {},
   "outputs": [],
   "source": [
    "class WideandDeepModel(keras.Model):\n",
    "    def __init__(self, units=30, activation = 'relu', **kwargs):\n",
    "        super().__init__(**kwargs) #handles standard args \n",
    "        self.hidden1 = keras.layers.Dense(units,activation=activation)\n",
    "        self.hidden2 = keras.layers.Dense(units,activation=activation)\n",
    "        self.main_output = keras.layers.Dense(1)\n",
    "        self.aux_output = keras.layers.Dense(1)\n",
    "        \n",
    "    def call(self,inputs):\n",
    "        input_A, input_B = inputs\n",
    "        hidden1 = self.hidden1(input_B)\n",
    "        hidden2 = self.hidden2(hidden1)\n",
    "        concat = keras.layers.concatenate([input_A,hidden2])\n",
    "        main_output = self.main_output(concat)\n",
    "        aux_output = self.aux_output(hidden2)\n",
    "        return main_output, aux_output"
   ]
  },
  {
   "cell_type": "code",
   "execution_count": 90,
   "id": "4895d4a0",
   "metadata": {},
   "outputs": [],
   "source": [
    "model = WideandDeepModel()"
   ]
  },
  {
   "cell_type": "markdown",
   "id": "bcb2f9bd",
   "metadata": {},
   "source": [
    "## Early stopping\n",
    "\n",
    "## Tensorboard for visualization"
   ]
  },
  {
   "cell_type": "code",
   "execution_count": 91,
   "id": "dc9c48b2",
   "metadata": {},
   "outputs": [],
   "source": [
    "import os\n",
    "root_logdir = os.path.join(os.curdir,'my_logs')\n",
    "\n",
    "def get_run_logdir():\n",
    "    import time\n",
    "    run_id = time.strftime('run_%Y_%m_%d-%H_%M_%S')\n",
    "    return os.path.join(root_logdir,run_id)\n",
    "\n",
    "run_logdir = get_run_logdir()"
   ]
  },
  {
   "cell_type": "code",
   "execution_count": 100,
   "id": "f9492dd8",
   "metadata": {},
   "outputs": [
    {
     "name": "stderr",
     "output_type": "stream",
     "text": [
      "2022-01-26 17:26:22.997214: I tensorflow/core/profiler/lib/profiler_session.cc:131] Profiler session initializing.\n",
      "2022-01-26 17:26:22.997247: I tensorflow/core/profiler/lib/profiler_session.cc:146] Profiler session started.\n",
      "2022-01-26 17:26:22.997597: I tensorflow/core/profiler/lib/profiler_session.cc:164] Profiler session tear down.\n"
     ]
    },
    {
     "name": "stdout",
     "output_type": "stream",
     "text": [
      "Epoch 1/30\n",
      "  22/1719 [..............................] - ETA: 8s - loss: 2.0796 - accuracy: 0.2969 "
     ]
    },
    {
     "name": "stderr",
     "output_type": "stream",
     "text": [
      "2022-01-26 17:26:23.277840: I tensorflow/core/grappler/optimizers/custom_graph_optimizer_registry.cc:112] Plugin optimizer for device_type GPU is enabled.\n",
      "2022-01-26 17:26:23.332939: I tensorflow/core/profiler/lib/profiler_session.cc:131] Profiler session initializing.\n",
      "2022-01-26 17:26:23.332949: I tensorflow/core/profiler/lib/profiler_session.cc:146] Profiler session started.\n",
      "2022-01-26 17:26:23.338356: I tensorflow/core/profiler/lib/profiler_session.cc:66] Profiler session collecting data.\n",
      "2022-01-26 17:26:23.341766: I tensorflow/core/profiler/lib/profiler_session.cc:164] Profiler session tear down.\n",
      "2022-01-26 17:26:23.346020: I tensorflow/core/profiler/rpc/client/save_profile.cc:136] Creating directory: ./my_logs/run_2022_01_26-17_23_46/train/plugins/profile/2022_01_26_17_26_23\n",
      "\n",
      "2022-01-26 17:26:23.346692: I tensorflow/core/profiler/rpc/client/save_profile.cc:142] Dumped gzipped tool data for trace.json.gz to ./my_logs/run_2022_01_26-17_23_46/train/plugins/profile/2022_01_26_17_26_23/phys.trace.json.gz\n",
      "2022-01-26 17:26:23.349390: I tensorflow/core/profiler/rpc/client/save_profile.cc:136] Creating directory: ./my_logs/run_2022_01_26-17_23_46/train/plugins/profile/2022_01_26_17_26_23\n",
      "\n",
      "2022-01-26 17:26:23.349559: I tensorflow/core/profiler/rpc/client/save_profile.cc:142] Dumped gzipped tool data for memory_profile.json.gz to ./my_logs/run_2022_01_26-17_23_46/train/plugins/profile/2022_01_26_17_26_23/phys.memory_profile.json.gz\n",
      "2022-01-26 17:26:23.349979: I tensorflow/core/profiler/rpc/client/capture_profile.cc:251] Creating directory: ./my_logs/run_2022_01_26-17_23_46/train/plugins/profile/2022_01_26_17_26_23\n",
      "Dumped tool data for xplane.pb to ./my_logs/run_2022_01_26-17_23_46/train/plugins/profile/2022_01_26_17_26_23/phys.xplane.pb\n",
      "Dumped tool data for overview_page.pb to ./my_logs/run_2022_01_26-17_23_46/train/plugins/profile/2022_01_26_17_26_23/phys.overview_page.pb\n",
      "Dumped tool data for input_pipeline.pb to ./my_logs/run_2022_01_26-17_23_46/train/plugins/profile/2022_01_26_17_26_23/phys.input_pipeline.pb\n",
      "Dumped tool data for tensorflow_stats.pb to ./my_logs/run_2022_01_26-17_23_46/train/plugins/profile/2022_01_26_17_26_23/phys.tensorflow_stats.pb\n",
      "Dumped tool data for kernel_stats.pb to ./my_logs/run_2022_01_26-17_23_46/train/plugins/profile/2022_01_26_17_26_23/phys.kernel_stats.pb\n",
      "\n"
     ]
    },
    {
     "name": "stdout",
     "output_type": "stream",
     "text": [
      "1715/1719 [============================>.] - ETA: 0s - loss: 0.7238 - accuracy: 0.7613"
     ]
    },
    {
     "name": "stderr",
     "output_type": "stream",
     "text": [
      "2022-01-26 17:26:30.396121: I tensorflow/core/grappler/optimizers/custom_graph_optimizer_registry.cc:112] Plugin optimizer for device_type GPU is enabled.\n"
     ]
    },
    {
     "name": "stdout",
     "output_type": "stream",
     "text": [
      "1719/1719 [==============================] - 8s 4ms/step - loss: 0.7232 - accuracy: 0.7614 - val_loss: 0.5385 - val_accuracy: 0.8090\n",
      "Epoch 2/30\n",
      "1719/1719 [==============================] - 7s 4ms/step - loss: 0.4865 - accuracy: 0.8315 - val_loss: 0.4585 - val_accuracy: 0.8438\n",
      "Epoch 3/30\n",
      "1719/1719 [==============================] - 7s 4ms/step - loss: 0.4420 - accuracy: 0.8449 - val_loss: 0.4118 - val_accuracy: 0.8612\n",
      "Epoch 4/30\n",
      "1719/1719 [==============================] - 7s 4ms/step - loss: 0.4147 - accuracy: 0.8550 - val_loss: 0.3902 - val_accuracy: 0.8664\n",
      "Epoch 5/30\n",
      "1719/1719 [==============================] - 7s 4ms/step - loss: 0.3945 - accuracy: 0.8616 - val_loss: 0.3743 - val_accuracy: 0.8716\n",
      "Epoch 6/30\n",
      "1719/1719 [==============================] - 7s 4ms/step - loss: 0.3778 - accuracy: 0.8670 - val_loss: 0.3711 - val_accuracy: 0.8670\n",
      "Epoch 7/30\n",
      "1719/1719 [==============================] - 7s 4ms/step - loss: 0.3640 - accuracy: 0.8716 - val_loss: 0.3799 - val_accuracy: 0.8706\n",
      "Epoch 8/30\n",
      "1719/1719 [==============================] - 7s 4ms/step - loss: 0.3523 - accuracy: 0.8763 - val_loss: 0.3637 - val_accuracy: 0.8690\n",
      "Epoch 9/30\n",
      "1719/1719 [==============================] - 7s 4ms/step - loss: 0.3417 - accuracy: 0.8786 - val_loss: 0.3504 - val_accuracy: 0.8754\n",
      "Epoch 10/30\n",
      "1719/1719 [==============================] - 7s 4ms/step - loss: 0.3326 - accuracy: 0.8824 - val_loss: 0.3501 - val_accuracy: 0.8784\n",
      "Epoch 11/30\n",
      "1719/1719 [==============================] - 7s 4ms/step - loss: 0.3229 - accuracy: 0.8844 - val_loss: 0.3395 - val_accuracy: 0.8796\n",
      "Epoch 12/30\n",
      "1719/1719 [==============================] - 7s 4ms/step - loss: 0.3163 - accuracy: 0.8865 - val_loss: 0.3301 - val_accuracy: 0.8832\n",
      "Epoch 13/30\n",
      "1719/1719 [==============================] - 7s 4ms/step - loss: 0.3092 - accuracy: 0.8899 - val_loss: 0.3300 - val_accuracy: 0.8818\n",
      "Epoch 14/30\n",
      "1719/1719 [==============================] - 7s 4ms/step - loss: 0.3016 - accuracy: 0.8916 - val_loss: 0.3173 - val_accuracy: 0.8872\n",
      "Epoch 15/30\n",
      "1719/1719 [==============================] - 7s 4ms/step - loss: 0.2960 - accuracy: 0.8933 - val_loss: 0.3181 - val_accuracy: 0.8852\n",
      "Epoch 16/30\n",
      "1719/1719 [==============================] - 7s 4ms/step - loss: 0.2885 - accuracy: 0.8957 - val_loss: 0.3162 - val_accuracy: 0.8876\n",
      "Epoch 17/30\n",
      "1719/1719 [==============================] - 7s 4ms/step - loss: 0.2831 - accuracy: 0.8986 - val_loss: 0.3124 - val_accuracy: 0.8876\n",
      "Epoch 18/30\n",
      "1719/1719 [==============================] - 7s 4ms/step - loss: 0.2783 - accuracy: 0.8994 - val_loss: 0.3249 - val_accuracy: 0.8828\n",
      "Epoch 19/30\n",
      "1719/1719 [==============================] - 7s 4ms/step - loss: 0.2732 - accuracy: 0.9016 - val_loss: 0.3061 - val_accuracy: 0.8904\n",
      "Epoch 20/30\n",
      "1719/1719 [==============================] - 7s 4ms/step - loss: 0.2680 - accuracy: 0.9030 - val_loss: 0.3168 - val_accuracy: 0.8882\n",
      "Epoch 21/30\n",
      "1719/1719 [==============================] - 7s 4ms/step - loss: 0.2636 - accuracy: 0.9047 - val_loss: 0.3182 - val_accuracy: 0.8838\n",
      "Epoch 22/30\n",
      "1719/1719 [==============================] - 7s 4ms/step - loss: 0.2584 - accuracy: 0.9069 - val_loss: 0.3001 - val_accuracy: 0.8906\n",
      "Epoch 23/30\n",
      "1719/1719 [==============================] - 7s 4ms/step - loss: 0.2543 - accuracy: 0.9093 - val_loss: 0.3019 - val_accuracy: 0.8884\n",
      "Epoch 24/30\n",
      "1719/1719 [==============================] - 7s 4ms/step - loss: 0.2496 - accuracy: 0.9098 - val_loss: 0.3089 - val_accuracy: 0.8904\n",
      "Epoch 25/30\n",
      "1719/1719 [==============================] - 7s 4ms/step - loss: 0.2467 - accuracy: 0.9118 - val_loss: 0.3000 - val_accuracy: 0.8904\n",
      "Epoch 26/30\n",
      "1719/1719 [==============================] - 7s 4ms/step - loss: 0.2413 - accuracy: 0.9129 - val_loss: 0.2940 - val_accuracy: 0.8970\n",
      "Epoch 27/30\n",
      "1719/1719 [==============================] - 7s 4ms/step - loss: 0.2374 - accuracy: 0.9144 - val_loss: 0.3094 - val_accuracy: 0.8868\n",
      "Epoch 28/30\n",
      "1719/1719 [==============================] - 8s 5ms/step - loss: 0.2333 - accuracy: 0.9161 - val_loss: 0.3104 - val_accuracy: 0.8898\n",
      "Epoch 29/30\n",
      "1719/1719 [==============================] - 7s 4ms/step - loss: 0.2305 - accuracy: 0.9177 - val_loss: 0.3248 - val_accuracy: 0.8848\n",
      "Epoch 30/30\n",
      "1719/1719 [==============================] - 7s 4ms/step - loss: 0.2259 - accuracy: 0.9190 - val_loss: 0.3094 - val_accuracy: 0.8910\n"
     ]
    }
   ],
   "source": [
    "tensorboard_cb = keras.callbacks.TensorBoard(run_logdir)\n",
    "history = model.fit(X_train,y_train, epochs=30,validation_data=(X_valid,y_valid),callbacks=[tensorboard_cb])"
   ]
  },
  {
   "cell_type": "code",
   "execution_count": 101,
   "id": "01a561c7",
   "metadata": {
    "scrolled": false
   },
   "outputs": [
    {
     "data": {
      "text/html": [
       "\n",
       "      <iframe id=\"tensorboard-frame-9fe1dcd8b03fa6f4\" width=\"100%\" height=\"800\" frameborder=\"0\">\n",
       "      </iframe>\n",
       "      <script>\n",
       "        (function() {\n",
       "          const frame = document.getElementById(\"tensorboard-frame-9fe1dcd8b03fa6f4\");\n",
       "          const url = new URL(\"/\", window.location);\n",
       "          const port = 6006;\n",
       "          if (port) {\n",
       "            url.port = port;\n",
       "          }\n",
       "          frame.src = url;\n",
       "        })();\n",
       "      </script>\n",
       "    "
      ],
      "text/plain": [
       "<IPython.core.display.HTML object>"
      ]
     },
     "metadata": {},
     "output_type": "display_data"
    }
   ],
   "source": [
    "%load_ext tensorboard \n",
    "%tensorboard --logdir=./my_logs --port=6006"
   ]
  },
  {
   "cell_type": "code",
   "execution_count": null,
   "id": "d3b242c0",
   "metadata": {},
   "outputs": [],
   "source": []
  }
 ],
 "metadata": {
  "kernelspec": {
   "display_name": "Python 3 (ipykernel)",
   "language": "python",
   "name": "python3"
  },
  "language_info": {
   "codemirror_mode": {
    "name": "ipython",
    "version": 3
   },
   "file_extension": ".py",
   "mimetype": "text/x-python",
   "name": "python",
   "nbconvert_exporter": "python",
   "pygments_lexer": "ipython3",
   "version": "3.9.7"
  }
 },
 "nbformat": 4,
 "nbformat_minor": 5
}
