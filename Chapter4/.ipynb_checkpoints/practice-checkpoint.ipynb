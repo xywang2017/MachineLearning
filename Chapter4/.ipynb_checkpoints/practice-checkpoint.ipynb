{
 "cells": [
  {
   "cell_type": "markdown",
   "id": "13253d80",
   "metadata": {},
   "source": [
    "## Machine learning algorithms and optimization\n",
    "- cost function\n",
    "- linear regression"
   ]
  },
  {
   "cell_type": "markdown",
   "id": "3f60fc75",
   "metadata": {},
   "source": [
    "### Lets first consider Linear regression\n",
    "- $h(\\theta) = \\frac{1}{m}\\sum_{i} (\\theta^T x^i-y^i)^2 =  \\frac{1}{m} (\\theta^T X^T - Y^T)(X \\theta - Y)$\n",
    "- here $Y=(y^1,y^2,\\dots,y^m)^T$, $X=(x^1,x^2,\\dots,x^m)^T$, and $\\theta^T=(\\theta_0,\\theta_1,\\dots,\\theta_n)$, $n$ being the number of features, and $m$ being the number of training sets.\n",
    "- One-batch minimization gives: $\\theta = (X^TX)^{-1}X^TY$\n",
    "- remember to add a biase $\\theta_0$.\n",
    "- the LinearRegression class has an implication based on SVD (pseudoinverse)\n",
    "- Online learning and Gradient Descent"
   ]
  },
  {
   "cell_type": "code",
   "execution_count": 11,
   "id": "cf21d721",
   "metadata": {},
   "outputs": [
    {
     "data": {
      "image/png": "[encoded data removed]",
      "text/plain": [
       "<Figure size 288x216 with 1 Axes>"
      ]
     },
     "metadata": {
      "needs_background": "light"
     },
     "output_type": "display_data"
    }
   ],
   "source": [
    "import numpy as np\n",
    "import matplotlib.pyplot as plt \n",
    "\n",
    "# 100 samples and 1 feature\n",
    "X = 2 * np.random.rand(100,1)\n",
    "Y = 4 + 3 * X + np.random.rand(100,1)\n",
    "\n",
    "fig = plt.figure(figsize=(4,3))\n",
    "plt.plot(X,Y,\"g.\")\n",
    "plt.xlabel(\"x\")\n",
    "plt.ylabel(\"y\")\n",
    "plt.tight_layout()\n",
    "plt.show()"
   ]
  },
  {
   "cell_type": "code",
   "execution_count": 20,
   "id": "c6b7f5d6",
   "metadata": {},
   "outputs": [
    {
     "name": "stdout",
     "output_type": "stream",
     "text": [
      "[[4.4984886 ]\n",
      " [3.02700929]]\n"
     ]
    }
   ],
   "source": [
    "Xb = np.c_[np.ones((100,1)),X]\n",
    "theta_best = np.dot(np.linalg.inv(np.dot(Xb.T,Xb)),np.dot(Xb.T,Y))\n",
    "print(theta_best)"
   ]
  },
  {
   "cell_type": "code",
   "execution_count": 17,
   "id": "dae4220a",
   "metadata": {},
   "outputs": [
    {
     "name": "stdout",
     "output_type": "stream",
     "text": [
      "[4.4984886] [[3.02700929]]\n",
      "[[ 4.4984886 ]\n",
      " [16.60652575]\n",
      " [22.66054433]]\n"
     ]
    }
   ],
   "source": [
    "from sklearn.linear_model import LinearRegression\n",
    "lin_reg = LinearRegression()\n",
    "lin_reg.fit(X,Y)\n",
    "print(lin_reg.intercept_, lin_reg.coef_)\n",
    "print(lin_reg.predict(np.array([[0],[4],[6]])))"
   ]
  },
  {
   "cell_type": "markdown",
   "id": "54f42a28",
   "metadata": {},
   "source": [
    "### Gradient Descent\n",
    "- partial derivative of the cost function with respect to any parameter $\\theta_j$ is: $\\nabla_\\theta h(\\theta) = \\frac{2}{m}X^T(X\\theta - Y)$\n",
    "- Gradient Descent step: $\\theta_{i+1} = \\theta_{i} - \\eta \\nabla_{\\theta}h(\\theta)|_{\\theta_i}$\n",
    "- No need to compute matrix inverse or pseudoinverse\n",
    "- batch gradient descent is computationally costly, use stochastic gradient descent! this is very similar to the Metropolis algorithm of local updates in physics (MC simulations)"
   ]
  },
  {
   "cell_type": "code",
   "execution_count": 29,
   "id": "10f7f4ee",
   "metadata": {},
   "outputs": [
    {
     "name": "stdout",
     "output_type": "stream",
     "text": [
      "[[4.4984886 ]\n",
      " [3.02700929]]\n"
     ]
    }
   ],
   "source": [
    "eta = 0.1 \n",
    "n_iter = 1000\n",
    "m = 100\n",
    "theta = np.random.rand(2,1) \n",
    "\n",
    "for itr in range(n_iter):\n",
    "    gradients = 2/m * (np.dot(Xb.T,np.dot(Xb,theta)- Y) )\n",
    "    theta = theta - eta * gradients\n",
    "    \n",
    "print(theta)"
   ]
  },
  {
   "cell_type": "code",
   "execution_count": 32,
   "id": "3d68d7d2",
   "metadata": {},
   "outputs": [
    {
     "name": "stdout",
     "output_type": "stream",
     "text": [
      "[[4.4796295 ]\n",
      " [3.02713985]]\n"
     ]
    }
   ],
   "source": [
    "# stochastic gradient descent \n",
    "n_epochs = 50\n",
    "t0, t1 = 4, 50 \n",
    "\n",
    "def learning_schedule(t):\n",
    "    return t0/(t+t1)\n",
    "\n",
    "theta = np.random.rand(2,1)\n",
    "\n",
    "for epoch in range(n_epochs):\n",
    "    for i in range(m):\n",
    "        random_index = np.random.randint(m)\n",
    "        xi = Xb[random_index:random_index+1,:]\n",
    "        yi = Y[random_index:random_index+1]\n",
    "        gradients = 2 * np.dot(xi.T,np.dot(xi,theta) - yi)\n",
    "        eta = learning_schedule(epoch * m + i)\n",
    "        theta = theta - eta * gradients\n",
    "print(theta)"
   ]
  },
  {
   "cell_type": "code",
   "execution_count": 40,
   "id": "0755805f",
   "metadata": {},
   "outputs": [
    {
     "name": "stdout",
     "output_type": "stream",
     "text": [
      "[4.47307049] [3.02345102]\n"
     ]
    }
   ],
   "source": [
    "# sklearn SGD\n",
    "from sklearn.linear_model import SGDRegressor\n",
    "sgd_reg = SGDRegressor(max_iter=1000, tol=1e-3,penalty=None,eta0=0.1)\n",
    "sgd_reg.fit(X,Y.ravel())\n",
    "print(sgd_reg.intercept_, sgd_reg.coef_)"
   ]
  },
  {
   "cell_type": "markdown",
   "id": "97ec6592",
   "metadata": {},
   "source": [
    "### Polynomial regression\n",
    "- this can be implemnted using linear regression, by treating higher order polynomials of certain features as new features "
   ]
  },
  {
   "cell_type": "code",
   "execution_count": 41,
   "id": "c38261af",
   "metadata": {},
   "outputs": [
    {
     "name": "stdout",
     "output_type": "stream",
     "text": [
      "[-2.71591998]\n",
      "[-2.71591998  7.37622132]\n"
     ]
    }
   ],
   "source": [
    "m = 100\n",
    "X = 6 * np.random.rand(m,1) - 3\n",
    "Y = 0.5 * X**2 + X + 2 + np.random.randn(m,1)\n",
    "\n",
    "from sklearn.preprocessing import PolynomialFeatures\n",
    "poly_features = PolynomialFeatures(degree=2,include_bias=False)\n",
    "X_poly = poly_features.fit_transform(X)\n",
    "print(X[0])\n",
    "print(X_poly[0])"
   ]
  },
  {
   "cell_type": "code",
   "execution_count": 43,
   "id": "24275c46",
   "metadata": {},
   "outputs": [
    {
     "data": {
      "text/plain": [
       "(array([1.81786582]), array([[0.95528711, 0.52933038]]))"
      ]
     },
     "execution_count": 43,
     "metadata": {},
     "output_type": "execute_result"
    }
   ],
   "source": [
    "lin_reg = LinearRegression()\n",
    "lin_reg.fit(X_poly,Y)\n",
    "lin_reg.intercept_, lin_reg.coef_"
   ]
  },
  {
   "cell_type": "code",
   "execution_count": 51,
   "id": "f9bd820c",
   "metadata": {},
   "outputs": [
    {
     "name": "stdout",
     "output_type": "stream",
     "text": [
      "[1.84882267] [0.97222829 0.45046233]\n"
     ]
    }
   ],
   "source": [
    "sgd_reg = SGDRegressor(max_iter=2000, tol=1e-3,penalty=None,eta0=0.1)\n",
    "sgd_reg.fit(X_poly,Y.ravel())\n",
    "print(sgd_reg.intercept_, sgd_reg.coef_)\n"
   ]
  },
  {
   "cell_type": "markdown",
   "id": "ecf1f576",
   "metadata": {},
   "source": [
    "## Plot learning curves\n",
    "- how any function changes over SG learning "
   ]
  },
  {
   "cell_type": "code",
   "execution_count": 58,
   "id": "bb34fba5",
   "metadata": {},
   "outputs": [
    {
     "data": {
      "image/png": "[encoded data removed]",
      "text/plain": [
       "<Figure size 432x288 with 1 Axes>"
      ]
     },
     "metadata": {
      "needs_background": "light"
     },
     "output_type": "display_data"
    }
   ],
   "source": [
    "from sklearn.metrics import mean_squared_error\n",
    "from sklearn.model_selection import train_test_split\n",
    "\n",
    "def plot_learning_curves(model,X,y):\n",
    "    X_train, X_val, y_train, y_val = train_test_split(X,y,test_size=0.2)\n",
    "    train_errors, val_errors = [], []\n",
    "    for m in range(1,len(X_train)):\n",
    "        model.fit(X_train[:m],y_train[:m])\n",
    "        y_train_predict = model.predict(X_train[:m])\n",
    "        y_val_predict = model.predict(X_val)\n",
    "        train_errors.append(mean_squared_error(y_train[:m],y_train_predict))\n",
    "        val_errors.append(mean_squared_error(y_val,y_val_predict))\n",
    "    plt.plot(np.sqrt(train_errors),\"r-+\",lw=2,label=\"train\")\n",
    "    plt.plot(np.sqrt(val_errors),\"b-\",lw=3,label=\"val\")\n",
    "    plt.ylim([0,3])\n",
    "    plt.legend()\n",
    "    \n",
    "lin_reg = LinearRegression()\n",
    "plot_learning_curves(lin_reg,X,Y)"
   ]
  },
  {
   "cell_type": "code",
   "execution_count": 59,
   "id": "47f284ac",
   "metadata": {},
   "outputs": [
    {
     "data": {
      "image/png": "[encoded data removed]",
      "text/plain": [
       "<Figure size 432x288 with 1 Axes>"
      ]
     },
     "metadata": {
      "needs_background": "light"
     },
     "output_type": "display_data"
    }
   ],
   "source": [
    "from sklearn.pipeline import Pipeline\n",
    "\n",
    "polynomial_regression = Pipeline([\n",
    "    (\"poly_features\", PolynomialFeatures(degree=10,include_bias=False)),\n",
    "    (\"lin_reg\",LinearRegression()),\n",
    "])\n",
    "plot_learning_curves(polynomial_regression,X,Y)"
   ]
  },
  {
   "cell_type": "markdown",
   "id": "6534e9ed",
   "metadata": {},
   "source": [
    "## Let's consider logistic regression next\n",
    "- binary classifier \n",
    "- estimating probabilities: activation function, sigmoid $\\hat{p}\\equiv h_\\theta(x) = \\sigma(x^T\\theta)$\n",
    "- cost function for training: $J(\\theta) = -\\frac{1}{m}\\sum_{i}\\left[ y^i\\log(\\hat{p}^i) +(1-y^{i})\\log(1-\\hat{p}^i)\\right]$\n",
    "- $\\partial_{\\theta_j}J(\\theta) = \\frac{1}{m}\\sum_{i} (\\sigma(\\theta^Tx^i)-y^i)x_j^{i}$"
   ]
  },
  {
   "cell_type": "code",
   "execution_count": 60,
   "id": "f714333c",
   "metadata": {},
   "outputs": [
    {
     "data": {
      "text/plain": [
       "['data',\n",
       " 'target',\n",
       " 'frame',\n",
       " 'target_names',\n",
       " 'DESCR',\n",
       " 'feature_names',\n",
       " 'filename',\n",
       " 'data_module']"
      ]
     },
     "execution_count": 60,
     "metadata": {},
     "output_type": "execute_result"
    }
   ],
   "source": [
    "## test out on iris data set\n",
    "from sklearn import datasets\n",
    "iris = datasets.load_iris()\n",
    "list(iris.keys())"
   ]
  },
  {
   "cell_type": "code",
   "execution_count": 67,
   "id": "2208229c",
   "metadata": {},
   "outputs": [],
   "source": [
    "X = iris[\"data\"][:,3:]  # pedal width\n",
    "y = (iris[\"target\"]==2).astype(np.int) # virginica or not "
   ]
  },
  {
   "cell_type": "code",
   "execution_count": 68,
   "id": "e0b5c9bd",
   "metadata": {},
   "outputs": [
    {
     "data": {
      "text/plain": [
       "LogisticRegression()"
      ]
     },
     "execution_count": 68,
     "metadata": {},
     "output_type": "execute_result"
    }
   ],
   "source": [
    "from sklearn.linear_model import LogisticRegression\n",
    "\n",
    "log_reg = LogisticRegression()\n",
    "log_reg.fit(X,y)"
   ]
  },
  {
   "cell_type": "markdown",
   "id": "15cad0d1",
   "metadata": {},
   "source": [
    "## Softmax function\n",
    "\n",
    "- train a parameter vector $\\theta^{(k)}$ for every class to be classified (using sigmoid binary classifier, logistic regression)\n",
    "- define score as $s_k(x) = x^T\\theta^{(k)}$\n",
    "- probability of the $k$-th class is given by $\\hat{p}_k = \\frac{\\exp(s_k(x)}{\\sum_{k}\\exp(s_k(x))}$  (softmax regression)\n",
    "- quite analogous to the partition function in physics\n",
    "- cross entropy cost function: $J(\\Theta) = - \\frac{1}{m}\\sum_i \\sum_{k} y_k^{(i)}\\log(\\hat{p}_{k}^{(i)})$\n",
    "- gradient vector for class k: $\\nabla_{\\theta^{(k)}} J(\\Theta) = \\frac{1}{m}\\sum_{i} (p_k^{(i)}-y_k^{(i)})x^{(i)}$.\n",
    "- optimizing the cross entropy cost function trains a multi-class classifier in one shot\n",
    "- mutually exclusive classes necessary"
   ]
  },
  {
   "cell_type": "code",
   "execution_count": 70,
   "id": "3c79a7b9",
   "metadata": {},
   "outputs": [
    {
     "data": {
      "text/plain": [
       "LogisticRegression(C=10, multi_class='multinomial')"
      ]
     },
     "execution_count": 70,
     "metadata": {},
     "output_type": "execute_result"
    }
   ],
   "source": [
    "X = iris[\"data\"][:,(2,3)]\n",
    "y = iris[\"target\"]\n",
    "\n",
    "softmax_reg = LogisticRegression(multi_class=\"multinomial\",solver=\"lbfgs\",C=10)\n",
    "softmax_reg.fit(X,y)"
   ]
  },
  {
   "cell_type": "code",
   "execution_count": null,
   "id": "22b68f6c",
   "metadata": {},
   "outputs": [],
   "source": []
  }
 ],
 "metadata": {
  "kernelspec": {
   "display_name": "Python 3 (ipykernel)",
   "language": "python",
   "name": "python3"
  },
  "language_info": {
   "codemirror_mode": {
    "name": "ipython",
    "version": 3
   },
   "file_extension": ".py",
   "mimetype": "text/x-python",
   "name": "python",
   "nbconvert_exporter": "python",
   "pygments_lexer": "ipython3",
   "version": "3.9.7"
  }
 },
 "nbformat": 4,
 "nbformat_minor": 5
}
