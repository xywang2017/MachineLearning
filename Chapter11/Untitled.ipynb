{
 "cells": [
  {
   "cell_type": "code",
   "execution_count": 1,
   "id": "4ca048ad",
   "metadata": {},
   "outputs": [],
   "source": [
    "import numpy as np\n",
    "import tensorflow as tf\n",
    "from tensorflow import keras"
   ]
  },
  {
   "cell_type": "code",
   "execution_count": 7,
   "id": "06514111",
   "metadata": {},
   "outputs": [
    {
     "data": {
      "text/plain": [
       "<tf.Variable 'Variable:0' shape=(2,) dtype=float32, numpy=array([1., 2.], dtype=float32)>"
      ]
     },
     "execution_count": 7,
     "metadata": {},
     "output_type": "execute_result"
    }
   ],
   "source": [
    "tf.Variable([1,2.])"
   ]
  },
  {
   "cell_type": "markdown",
   "id": "eaa10d74",
   "metadata": {},
   "source": [
    "## Customizing models and training algorithms\n",
    "### custom loss function "
   ]
  },
  {
   "cell_type": "code",
   "execution_count": 9,
   "id": "4f019a7d",
   "metadata": {},
   "outputs": [],
   "source": [
    "# this implements the huber loss cost function \n",
    "def huber_fn(y_true,y_pred):\n",
    "    error = y_true - y_pred \n",
    "    is_small_error = tf.abs(error) < 1\n",
    "    squared_loss = tf.square(error) /2 \n",
    "    linear_loss = tf.abs(error)\n",
    "    return tf.where(is_small_error,squared_loss,linear_loss)"
   ]
  },
  {
   "cell_type": "code",
   "execution_count": 10,
   "id": "e0a3fd9b",
   "metadata": {},
   "outputs": [],
   "source": [
    "## return function handle\n",
    "def create_huber(threadhold=1.0):\n",
    "    def huber_fn(y_true,y_pred):\n",
    "        error = y_true - y_pred \n",
    "        is_small_error = tf.abs(error) < threshold\n",
    "        squared_loss = tf.square(error) /2 \n",
    "        linear_loss = tf.abs(error) * threshold - threshold**2/2\n",
    "        return tf.where(is_small_error,squared_loss,linear_loss)\n",
    "    return huber_fn"
   ]
  },
  {
   "cell_type": "code",
   "execution_count": 11,
   "id": "3e3d56ef",
   "metadata": {},
   "outputs": [],
   "source": [
    "class HuberLoss(keras.losses.Loss):\n",
    "    def __int__(self, threshold=1.0,**kwargs):\n",
    "        self.threshold = threshold\n",
    "        super().__init__(**kwargs)\n",
    "    def call(self,y_true,y_pred):\n",
    "        error = y_true - y_pred \n",
    "        is_small_error = tf.abs(error) < self.threshold\n",
    "        squared_loss = tf.square(error) /2 \n",
    "        linear_loss = tf.abs(error) * self.threshold - self.threshold**2/2\n",
    "        return tf.where(is_small_error,squared_loss,linear_loss)\n",
    "    def get_config(self):\n",
    "        base_config = super().get_config()\n",
    "        return {**base_config, \"threshold\":self.threshold}"
   ]
  },
  {
   "cell_type": "code",
   "execution_count": 12,
   "id": "6264fbd2",
   "metadata": {},
   "outputs": [],
   "source": [
    "huber = HuberLoss()"
   ]
  },
  {
   "cell_type": "code",
   "execution_count": 13,
   "id": "85c27526",
   "metadata": {},
   "outputs": [
    {
     "data": {
      "text/plain": [
       "<__main__.HuberLoss at 0x1054d18e0>"
      ]
     },
     "execution_count": 13,
     "metadata": {},
     "output_type": "execute_result"
    }
   ],
   "source": [
    "huber"
   ]
  },
  {
   "cell_type": "code",
   "execution_count": null,
   "id": "2d0c461f",
   "metadata": {},
   "outputs": [],
   "source": []
  }
 ],
 "metadata": {
  "kernelspec": {
   "display_name": "Python 3 (ipykernel)",
   "language": "python",
   "name": "python3"
  },
  "language_info": {
   "codemirror_mode": {
    "name": "ipython",
    "version": 3
   },
   "file_extension": ".py",
   "mimetype": "text/x-python",
   "name": "python",
   "nbconvert_exporter": "python",
   "pygments_lexer": "ipython3",
   "version": "3.9.7"
  }
 },
 "nbformat": 4,
 "nbformat_minor": 5
}
