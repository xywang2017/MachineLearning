{
 "cells": [
  {
   "cell_type": "code",
   "execution_count": 1,
   "id": "3c1a3749",
   "metadata": {},
   "outputs": [],
   "source": [
    "import numpy as np\n",
    "import tensorflow as tf\n",
    "from tensorflow import keras"
   ]
  },
  {
   "cell_type": "code",
   "execution_count": 7,
   "id": "f55c90aa",
   "metadata": {},
   "outputs": [
    {
     "data": {
      "text/plain": [
       "<tf.Variable 'Variable:0' shape=(2,) dtype=float32, numpy=array([1., 2.], dtype=float32)>"
      ]
     },
     "execution_count": 7,
     "metadata": {},
     "output_type": "execute_result"
    }
   ],
   "source": [
    "tf.Variable([1,2.])"
   ]
  },
  {
   "cell_type": "markdown",
   "id": "18be5fda",
   "metadata": {},
   "source": [
    "## Customizing models and training algorithms\n",
    "### custom loss function "
   ]
  },
  {
   "cell_type": "code",
   "execution_count": 9,
   "id": "b23ccac9",
   "metadata": {},
   "outputs": [],
   "source": [
    "# this implements the huber loss cost function \n",
    "def huber_fn(y_true,y_pred):\n",
    "    error = y_true - y_pred \n",
    "    is_small_error = tf.abs(error) < 1\n",
    "    squared_loss = tf.square(error) /2 \n",
    "    linear_loss = tf.abs(error)\n",
    "    return tf.where(is_small_error,squared_loss,linear_loss)"
   ]
  },
  {
   "cell_type": "code",
   "execution_count": 10,
   "id": "425bab14",
   "metadata": {},
   "outputs": [],
   "source": [
    "## return function handle\n",
    "def create_huber(threadhold=1.0):\n",
    "    def huber_fn(y_true,y_pred):\n",
    "        error = y_true - y_pred \n",
    "        is_small_error = tf.abs(error) < threshold\n",
    "        squared_loss = tf.square(error) /2 \n",
    "        linear_loss = tf.abs(error) * threshold - threshold**2/2\n",
    "        return tf.where(is_small_error,squared_loss,linear_loss)\n",
    "    return huber_fn"
   ]
  },
  {
   "cell_type": "code",
   "execution_count": null,
   "id": "ef4999dc",
   "metadata": {},
   "outputs": [],
   "source": []
  }
 ],
 "metadata": {
  "kernelspec": {
   "display_name": "Python 3 (ipykernel)",
   "language": "python",
   "name": "python3"
  },
  "language_info": {
   "codemirror_mode": {
    "name": "ipython",
    "version": 3
   },
   "file_extension": ".py",
   "mimetype": "text/x-python",
   "name": "python",
   "nbconvert_exporter": "python",
   "pygments_lexer": "ipython3",
   "version": "3.9.7"
  }
 },
 "nbformat": 4,
 "nbformat_minor": 5
}
