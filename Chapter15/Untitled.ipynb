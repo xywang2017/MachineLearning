{
 "cells": [
  {
   "cell_type": "code",
   "execution_count": 17,
   "id": "ca7115a5",
   "metadata": {},
   "outputs": [],
   "source": [
    "import numpy as np \n",
    "import tensorflow as tf\n",
    "from tensorflow import keras\n",
    "import matplotlib.pyplot as plt"
   ]
  },
  {
   "cell_type": "code",
   "execution_count": 30,
   "id": "1d6ce91b",
   "metadata": {},
   "outputs": [],
   "source": [
    "def generate_time_series(batch_size,n_steps):\n",
    "    freq1, freq2, offsets1, offsets2 = np.random.rand(4,batch_size,1)\n",
    "    time = np.linspace(0,1,n_steps)\n",
    "    series = 0.5 * np.sin( (time-offsets1) * (freq1 * 10 + 10))\n",
    "    series += 0.5 * np.sin( (time-offsets2) * (freq2 * 20 + 20))\n",
    "    series += 0.1 * (np.random.rand(batch_size,n_steps) -0.5) \n",
    "    return series[...,np.newaxis].astype(np.float32)\n",
    "\n",
    "n_steps = 50\n",
    "series = generate_time_series(10000,n_steps+1)\n",
    "X_train, y_train = series[:7000,:n_steps], series[:7000,-1]\n",
    "X_valid, y_valid = series[7000:9000,:n_steps], series[7000:9000,-1]\n",
    "X_test, y_test = series[9000:,:n_steps], series[9000:,-1]"
   ]
  },
  {
   "cell_type": "code",
   "execution_count": 21,
   "id": "3a016ad5",
   "metadata": {},
   "outputs": [
    {
     "data": {
      "image/png": "[encoded data removed]",
      "text/plain": [
       "<Figure size 432x288 with 1 Axes>"
      ]
     },
     "metadata": {
      "needs_background": "light"
     },
     "output_type": "display_data"
    }
   ],
   "source": [
    "plt.plot(np.linspace(0,1,n_steps),X_test[2,:],\"b-\",marker=\".\")\n",
    "plt.show()"
   ]
  },
  {
   "cell_type": "code",
   "execution_count": 41,
   "id": "0ba34e1f",
   "metadata": {},
   "outputs": [
    {
     "data": {
      "text/plain": [
       "0.056596145"
      ]
     },
     "execution_count": 41,
     "metadata": {},
     "output_type": "execute_result"
    }
   ],
   "source": [
    "y_pred = X_test[:,-1]\n",
    "np.mean(keras.losses.mean_squared_error(y_test,y_pred))"
   ]
  },
  {
   "cell_type": "markdown",
   "id": "2ef8a7b5",
   "metadata": {},
   "source": [
    "## Simple linear model"
   ]
  },
  {
   "cell_type": "code",
   "execution_count": 42,
   "id": "e86254eb",
   "metadata": {},
   "outputs": [
    {
     "name": "stdout",
     "output_type": "stream",
     "text": [
      "Epoch 1/20\n",
      " 23/219 [==>...........................] - ETA: 0s - loss: 0.7349 "
     ]
    },
    {
     "name": "stderr",
     "output_type": "stream",
     "text": [
      "2022-02-02 14:19:21.849238: I tensorflow/core/grappler/optimizers/custom_graph_optimizer_registry.cc:112] Plugin optimizer for device_type GPU is enabled.\n"
     ]
    },
    {
     "name": "stdout",
     "output_type": "stream",
     "text": [
      "219/219 [==============================] - 1s 3ms/step - loss: 0.3877 - val_loss: 0.1763\n",
      "Epoch 2/20\n",
      " 44/219 [=====>........................] - ETA: 0s - loss: 0.1657"
     ]
    },
    {
     "name": "stderr",
     "output_type": "stream",
     "text": [
      "2022-02-02 14:19:22.505237: I tensorflow/core/grappler/optimizers/custom_graph_optimizer_registry.cc:112] Plugin optimizer for device_type GPU is enabled.\n"
     ]
    },
    {
     "name": "stdout",
     "output_type": "stream",
     "text": [
      "219/219 [==============================] - 1s 3ms/step - loss: 0.1124 - val_loss: 0.0685\n",
      "Epoch 3/20\n",
      "219/219 [==============================] - 1s 3ms/step - loss: 0.0522 - val_loss: 0.0387\n",
      "Epoch 4/20\n",
      "219/219 [==============================] - 1s 3ms/step - loss: 0.0329 - val_loss: 0.0279\n",
      "Epoch 5/20\n",
      "219/219 [==============================] - 1s 3ms/step - loss: 0.0246 - val_loss: 0.0218\n",
      "Epoch 6/20\n",
      "219/219 [==============================] - 1s 3ms/step - loss: 0.0194 - val_loss: 0.0177\n",
      "Epoch 7/20\n",
      "219/219 [==============================] - 1s 3ms/step - loss: 0.0157 - val_loss: 0.0144\n",
      "Epoch 8/20\n",
      "219/219 [==============================] - 1s 3ms/step - loss: 0.0130 - val_loss: 0.0124\n",
      "Epoch 9/20\n",
      "219/219 [==============================] - 1s 3ms/step - loss: 0.0113 - val_loss: 0.0109\n",
      "Epoch 10/20\n",
      "219/219 [==============================] - 1s 3ms/step - loss: 0.0101 - val_loss: 0.0099\n",
      "Epoch 11/20\n",
      "219/219 [==============================] - 1s 3ms/step - loss: 0.0093 - val_loss: 0.0092\n",
      "Epoch 12/20\n",
      "219/219 [==============================] - 1s 3ms/step - loss: 0.0088 - val_loss: 0.0089\n",
      "Epoch 13/20\n",
      "219/219 [==============================] - 1s 3ms/step - loss: 0.0084 - val_loss: 0.0084\n",
      "Epoch 14/20\n",
      "219/219 [==============================] - 1s 3ms/step - loss: 0.0081 - val_loss: 0.0081\n",
      "Epoch 15/20\n",
      "219/219 [==============================] - 1s 3ms/step - loss: 0.0078 - val_loss: 0.0080\n",
      "Epoch 16/20\n",
      "219/219 [==============================] - 1s 3ms/step - loss: 0.0076 - val_loss: 0.0076\n",
      "Epoch 17/20\n",
      "219/219 [==============================] - 1s 3ms/step - loss: 0.0074 - val_loss: 0.0074\n",
      "Epoch 18/20\n",
      "219/219 [==============================] - 1s 3ms/step - loss: 0.0071 - val_loss: 0.0071\n",
      "Epoch 19/20\n",
      "219/219 [==============================] - 1s 3ms/step - loss: 0.0069 - val_loss: 0.0069\n",
      "Epoch 20/20\n",
      "219/219 [==============================] - 1s 3ms/step - loss: 0.0067 - val_loss: 0.0067\n"
     ]
    },
    {
     "data": {
      "text/plain": [
       "<keras.callbacks.History at 0x2809a1520>"
      ]
     },
     "execution_count": 42,
     "metadata": {},
     "output_type": "execute_result"
    }
   ],
   "source": [
    "model = keras.models.Sequential([\n",
    "    keras.layers.Flatten(input_shape=[n_steps,1]),\n",
    "    keras.layers.Dense(1,input_shape=[None,1])\n",
    "])\n",
    "model.compile(optimizer=\"Adam\",loss=\"mse\")\n",
    "model.fit(X_train,y_train,epochs=20,validation_data=(X_valid,y_valid))"
   ]
  },
  {
   "cell_type": "code",
   "execution_count": 43,
   "id": "91147ce1",
   "metadata": {},
   "outputs": [
    {
     "name": "stderr",
     "output_type": "stream",
     "text": [
      "2022-02-02 14:19:35.994225: I tensorflow/core/grappler/optimizers/custom_graph_optimizer_registry.cc:112] Plugin optimizer for device_type GPU is enabled.\n"
     ]
    },
    {
     "data": {
      "text/plain": [
       "0.0063776015"
      ]
     },
     "execution_count": 43,
     "metadata": {},
     "output_type": "execute_result"
    }
   ],
   "source": [
    "y_pred = model.predict(X_test)\n",
    "np.mean(keras.losses.mean_squared_error(y_test,y_pred))"
   ]
  },
  {
   "cell_type": "markdown",
   "id": "73c084a5",
   "metadata": {},
   "source": [
    "## Simple RNN"
   ]
  },
  {
   "cell_type": "code",
   "execution_count": 38,
   "id": "18c6f1b7",
   "metadata": {},
   "outputs": [],
   "source": [
    "model = keras.models.Sequential([\n",
    "    keras.layers.SimpleRNN(1,input_shape=[None,1])\n",
    "])\n",
    "model.compile(optimizer=\"Adam\",loss=\"mse\")"
   ]
  },
  {
   "cell_type": "code",
   "execution_count": 39,
   "id": "0fd7869e",
   "metadata": {},
   "outputs": [
    {
     "name": "stdout",
     "output_type": "stream",
     "text": [
      "Epoch 1/20\n"
     ]
    },
    {
     "name": "stderr",
     "output_type": "stream",
     "text": [
      "2022-02-02 13:23:24.494564: I tensorflow/core/grappler/optimizers/custom_graph_optimizer_registry.cc:112] Plugin optimizer for device_type GPU is enabled.\n"
     ]
    },
    {
     "name": "stdout",
     "output_type": "stream",
     "text": [
      "219/219 [==============================] - ETA: 0s - loss: 0.3036"
     ]
    },
    {
     "name": "stderr",
     "output_type": "stream",
     "text": [
      "2022-02-02 13:25:58.155808: I tensorflow/core/grappler/optimizers/custom_graph_optimizer_registry.cc:112] Plugin optimizer for device_type GPU is enabled.\n"
     ]
    },
    {
     "name": "stdout",
     "output_type": "stream",
     "text": [
      "219/219 [==============================] - 160s 728ms/step - loss: 0.3036 - val_loss: 0.2342\n",
      "Epoch 2/20\n",
      "219/219 [==============================] - 160s 732ms/step - loss: 0.1962 - val_loss: 0.1653\n",
      "Epoch 3/20\n",
      "219/219 [==============================] - 161s 737ms/step - loss: 0.1510 - val_loss: 0.1345\n",
      "Epoch 4/20\n",
      "219/219 [==============================] - 161s 734ms/step - loss: 0.1257 - val_loss: 0.1136\n",
      "Epoch 5/20\n",
      "219/219 [==============================] - 163s 744ms/step - loss: 0.1071 - val_loss: 0.0975\n",
      "Epoch 6/20\n",
      "219/219 [==============================] - 162s 739ms/step - loss: 0.0928 - val_loss: 0.0851\n",
      "Epoch 7/20\n",
      "219/219 [==============================] - 164s 748ms/step - loss: 0.0815 - val_loss: 0.0755\n",
      "Epoch 8/20\n",
      "219/219 [==============================] - 163s 744ms/step - loss: 0.0726 - val_loss: 0.0675\n",
      "Epoch 9/20\n",
      "219/219 [==============================] - 167s 762ms/step - loss: 0.0652 - val_loss: 0.0610\n",
      "Epoch 10/20\n",
      "219/219 [==============================] - 165s 751ms/step - loss: 0.0591 - val_loss: 0.0556\n",
      "Epoch 11/20\n",
      "219/219 [==============================] - 163s 742ms/step - loss: 0.0540 - val_loss: 0.0510\n",
      "Epoch 12/20\n",
      "219/219 [==============================] - 162s 742ms/step - loss: 0.0497 - val_loss: 0.0470\n",
      "Epoch 13/20\n",
      "219/219 [==============================] - 166s 758ms/step - loss: 0.0460 - val_loss: 0.0436\n",
      "Epoch 14/20\n",
      "219/219 [==============================] - 169s 771ms/step - loss: 0.0428 - val_loss: 0.0407\n",
      "Epoch 15/20\n",
      "219/219 [==============================] - 182s 834ms/step - loss: 0.0400 - val_loss: 0.0381\n",
      "Epoch 16/20\n",
      "219/219 [==============================] - 170s 776ms/step - loss: 0.0376 - val_loss: 0.0359\n",
      "Epoch 17/20\n",
      "219/219 [==============================] - 169s 770ms/step - loss: 0.0355 - val_loss: 0.0339\n",
      "Epoch 18/20\n",
      "219/219 [==============================] - 168s 768ms/step - loss: 0.0336 - val_loss: 0.0322\n",
      "Epoch 19/20\n",
      "219/219 [==============================] - 169s 770ms/step - loss: 0.0320 - val_loss: 0.0308\n",
      "Epoch 20/20\n",
      "219/219 [==============================] - 168s 766ms/step - loss: 0.0306 - val_loss: 0.0295\n"
     ]
    },
    {
     "data": {
      "text/plain": [
       "<keras.callbacks.History at 0x16b5c26d0>"
      ]
     },
     "execution_count": 39,
     "metadata": {},
     "output_type": "execute_result"
    }
   ],
   "source": [
    "model.fit(X_train,y_train,epochs=20,validation_data=(X_valid,y_valid))"
   ]
  },
  {
   "cell_type": "code",
   "execution_count": 40,
   "id": "93c25001",
   "metadata": {},
   "outputs": [
    {
     "name": "stderr",
     "output_type": "stream",
     "text": [
      "2022-02-02 14:18:43.519895: I tensorflow/core/grappler/optimizers/custom_graph_optimizer_registry.cc:112] Plugin optimizer for device_type GPU is enabled.\n"
     ]
    },
    {
     "data": {
      "text/plain": [
       "0.028289482"
      ]
     },
     "execution_count": 40,
     "metadata": {},
     "output_type": "execute_result"
    }
   ],
   "source": [
    "y_pred = model.predict(X_test)\n",
    "np.mean(keras.losses.mean_squared_error(y_test,y_pred))"
   ]
  },
  {
   "cell_type": "code",
   "execution_count": 44,
   "id": "5e41ce6d",
   "metadata": {},
   "outputs": [
    {
     "name": "stdout",
     "output_type": "stream",
     "text": [
      "Epoch 1/20\n"
     ]
    },
    {
     "name": "stderr",
     "output_type": "stream",
     "text": [
      "2022-02-02 14:19:53.553981: I tensorflow/core/grappler/optimizers/custom_graph_optimizer_registry.cc:112] Plugin optimizer for device_type GPU is enabled.\n"
     ]
    },
    {
     "name": "stdout",
     "output_type": "stream",
     "text": [
      "219/219 [==============================] - ETA: 0s - loss: 0.0447"
     ]
    },
    {
     "name": "stderr",
     "output_type": "stream",
     "text": [
      "2022-02-02 14:30:56.336456: I tensorflow/core/grappler/optimizers/custom_graph_optimizer_registry.cc:112] Plugin optimizer for device_type GPU is enabled.\n"
     ]
    },
    {
     "name": "stdout",
     "output_type": "stream",
     "text": [
      "219/219 [==============================] - 683s 3s/step - loss: 0.0447 - val_loss: 0.0099\n",
      "Epoch 2/20\n",
      " 67/219 [========>.....................] - ETA: 7:50 - loss: 0.0091"
     ]
    },
    {
     "ename": "KeyboardInterrupt",
     "evalue": "",
     "output_type": "error",
     "traceback": [
      "\u001b[0;31m---------------------------------------------------------------------------\u001b[0m",
      "\u001b[0;31mKeyboardInterrupt\u001b[0m                         Traceback (most recent call last)",
      "\u001b[0;32m/var/folders/m4/cmp09r814mq6ptl9_hb8qqlh0000gn/T/ipykernel_13794/1830906838.py\u001b[0m in \u001b[0;36m<module>\u001b[0;34m\u001b[0m\n\u001b[1;32m      5\u001b[0m ])\n\u001b[1;32m      6\u001b[0m \u001b[0mmodel\u001b[0m\u001b[0;34m.\u001b[0m\u001b[0mcompile\u001b[0m\u001b[0;34m(\u001b[0m\u001b[0moptimizer\u001b[0m\u001b[0;34m=\u001b[0m\u001b[0;34m\"Adam\"\u001b[0m\u001b[0;34m,\u001b[0m\u001b[0mloss\u001b[0m\u001b[0;34m=\u001b[0m\u001b[0;34m\"mse\"\u001b[0m\u001b[0;34m)\u001b[0m\u001b[0;34m\u001b[0m\u001b[0;34m\u001b[0m\u001b[0m\n\u001b[0;32m----> 7\u001b[0;31m \u001b[0mmodel\u001b[0m\u001b[0;34m.\u001b[0m\u001b[0mfit\u001b[0m\u001b[0;34m(\u001b[0m\u001b[0mX_train\u001b[0m\u001b[0;34m,\u001b[0m\u001b[0my_train\u001b[0m\u001b[0;34m,\u001b[0m\u001b[0mepochs\u001b[0m\u001b[0;34m=\u001b[0m\u001b[0;36m20\u001b[0m\u001b[0;34m,\u001b[0m\u001b[0mvalidation_data\u001b[0m\u001b[0;34m=\u001b[0m\u001b[0;34m(\u001b[0m\u001b[0mX_valid\u001b[0m\u001b[0;34m,\u001b[0m\u001b[0my_valid\u001b[0m\u001b[0;34m)\u001b[0m\u001b[0;34m)\u001b[0m\u001b[0;34m\u001b[0m\u001b[0;34m\u001b[0m\u001b[0m\n\u001b[0m",
      "\u001b[0;32m~/miniforge3/lib/python3.9/site-packages/keras/engine/training.py\u001b[0m in \u001b[0;36mfit\u001b[0;34m(self, x, y, batch_size, epochs, verbose, callbacks, validation_split, validation_data, shuffle, class_weight, sample_weight, initial_epoch, steps_per_epoch, validation_steps, validation_batch_size, validation_freq, max_queue_size, workers, use_multiprocessing)\u001b[0m\n\u001b[1;32m   1182\u001b[0m                 _r=1):\n\u001b[1;32m   1183\u001b[0m               \u001b[0mcallbacks\u001b[0m\u001b[0;34m.\u001b[0m\u001b[0mon_train_batch_begin\u001b[0m\u001b[0;34m(\u001b[0m\u001b[0mstep\u001b[0m\u001b[0;34m)\u001b[0m\u001b[0;34m\u001b[0m\u001b[0;34m\u001b[0m\u001b[0m\n\u001b[0;32m-> 1184\u001b[0;31m               \u001b[0mtmp_logs\u001b[0m \u001b[0;34m=\u001b[0m \u001b[0mself\u001b[0m\u001b[0;34m.\u001b[0m\u001b[0mtrain_function\u001b[0m\u001b[0;34m(\u001b[0m\u001b[0miterator\u001b[0m\u001b[0;34m)\u001b[0m\u001b[0;34m\u001b[0m\u001b[0;34m\u001b[0m\u001b[0m\n\u001b[0m\u001b[1;32m   1185\u001b[0m               \u001b[0;32mif\u001b[0m \u001b[0mdata_handler\u001b[0m\u001b[0;34m.\u001b[0m\u001b[0mshould_sync\u001b[0m\u001b[0;34m:\u001b[0m\u001b[0;34m\u001b[0m\u001b[0;34m\u001b[0m\u001b[0m\n\u001b[1;32m   1186\u001b[0m                 \u001b[0mcontext\u001b[0m\u001b[0;34m.\u001b[0m\u001b[0masync_wait\u001b[0m\u001b[0;34m(\u001b[0m\u001b[0;34m)\u001b[0m\u001b[0;34m\u001b[0m\u001b[0;34m\u001b[0m\u001b[0m\n",
      "\u001b[0;32m~/miniforge3/lib/python3.9/site-packages/tensorflow/python/eager/def_function.py\u001b[0m in \u001b[0;36m__call__\u001b[0;34m(self, *args, **kwds)\u001b[0m\n\u001b[1;32m    883\u001b[0m \u001b[0;34m\u001b[0m\u001b[0m\n\u001b[1;32m    884\u001b[0m       \u001b[0;32mwith\u001b[0m \u001b[0mOptionalXlaContext\u001b[0m\u001b[0;34m(\u001b[0m\u001b[0mself\u001b[0m\u001b[0;34m.\u001b[0m\u001b[0m_jit_compile\u001b[0m\u001b[0;34m)\u001b[0m\u001b[0;34m:\u001b[0m\u001b[0;34m\u001b[0m\u001b[0;34m\u001b[0m\u001b[0m\n\u001b[0;32m--> 885\u001b[0;31m         \u001b[0mresult\u001b[0m \u001b[0;34m=\u001b[0m \u001b[0mself\u001b[0m\u001b[0;34m.\u001b[0m\u001b[0m_call\u001b[0m\u001b[0;34m(\u001b[0m\u001b[0;34m*\u001b[0m\u001b[0margs\u001b[0m\u001b[0;34m,\u001b[0m \u001b[0;34m**\u001b[0m\u001b[0mkwds\u001b[0m\u001b[0;34m)\u001b[0m\u001b[0;34m\u001b[0m\u001b[0;34m\u001b[0m\u001b[0m\n\u001b[0m\u001b[1;32m    886\u001b[0m \u001b[0;34m\u001b[0m\u001b[0m\n\u001b[1;32m    887\u001b[0m       \u001b[0mnew_tracing_count\u001b[0m \u001b[0;34m=\u001b[0m \u001b[0mself\u001b[0m\u001b[0;34m.\u001b[0m\u001b[0mexperimental_get_tracing_count\u001b[0m\u001b[0;34m(\u001b[0m\u001b[0;34m)\u001b[0m\u001b[0;34m\u001b[0m\u001b[0;34m\u001b[0m\u001b[0m\n",
      "\u001b[0;32m~/miniforge3/lib/python3.9/site-packages/tensorflow/python/eager/def_function.py\u001b[0m in \u001b[0;36m_call\u001b[0;34m(self, *args, **kwds)\u001b[0m\n\u001b[1;32m    915\u001b[0m       \u001b[0;31m# In this case we have created variables on the first call, so we run the\u001b[0m\u001b[0;34m\u001b[0m\u001b[0;34m\u001b[0m\u001b[0m\n\u001b[1;32m    916\u001b[0m       \u001b[0;31m# defunned version which is guaranteed to never create variables.\u001b[0m\u001b[0;34m\u001b[0m\u001b[0;34m\u001b[0m\u001b[0m\n\u001b[0;32m--> 917\u001b[0;31m       \u001b[0;32mreturn\u001b[0m \u001b[0mself\u001b[0m\u001b[0;34m.\u001b[0m\u001b[0m_stateless_fn\u001b[0m\u001b[0;34m(\u001b[0m\u001b[0;34m*\u001b[0m\u001b[0margs\u001b[0m\u001b[0;34m,\u001b[0m \u001b[0;34m**\u001b[0m\u001b[0mkwds\u001b[0m\u001b[0;34m)\u001b[0m  \u001b[0;31m# pylint: disable=not-callable\u001b[0m\u001b[0;34m\u001b[0m\u001b[0;34m\u001b[0m\u001b[0m\n\u001b[0m\u001b[1;32m    918\u001b[0m     \u001b[0;32melif\u001b[0m \u001b[0mself\u001b[0m\u001b[0;34m.\u001b[0m\u001b[0m_stateful_fn\u001b[0m \u001b[0;32mis\u001b[0m \u001b[0;32mnot\u001b[0m \u001b[0;32mNone\u001b[0m\u001b[0;34m:\u001b[0m\u001b[0;34m\u001b[0m\u001b[0;34m\u001b[0m\u001b[0m\n\u001b[1;32m    919\u001b[0m       \u001b[0;31m# Release the lock early so that multiple threads can perform the call\u001b[0m\u001b[0;34m\u001b[0m\u001b[0;34m\u001b[0m\u001b[0m\n",
      "\u001b[0;32m~/miniforge3/lib/python3.9/site-packages/tensorflow/python/eager/function.py\u001b[0m in \u001b[0;36m__call__\u001b[0;34m(self, *args, **kwargs)\u001b[0m\n\u001b[1;32m   3037\u001b[0m       (graph_function,\n\u001b[1;32m   3038\u001b[0m        filtered_flat_args) = self._maybe_define_function(args, kwargs)\n\u001b[0;32m-> 3039\u001b[0;31m     return graph_function._call_flat(\n\u001b[0m\u001b[1;32m   3040\u001b[0m         filtered_flat_args, captured_inputs=graph_function.captured_inputs)  # pylint: disable=protected-access\n\u001b[1;32m   3041\u001b[0m \u001b[0;34m\u001b[0m\u001b[0m\n",
      "\u001b[0;32m~/miniforge3/lib/python3.9/site-packages/tensorflow/python/eager/function.py\u001b[0m in \u001b[0;36m_call_flat\u001b[0;34m(self, args, captured_inputs, cancellation_manager)\u001b[0m\n\u001b[1;32m   1961\u001b[0m         and executing_eagerly):\n\u001b[1;32m   1962\u001b[0m       \u001b[0;31m# No tape is watching; skip to running the function.\u001b[0m\u001b[0;34m\u001b[0m\u001b[0;34m\u001b[0m\u001b[0m\n\u001b[0;32m-> 1963\u001b[0;31m       return self._build_call_outputs(self._inference_function.call(\n\u001b[0m\u001b[1;32m   1964\u001b[0m           ctx, args, cancellation_manager=cancellation_manager))\n\u001b[1;32m   1965\u001b[0m     forward_backward = self._select_forward_and_backward_functions(\n",
      "\u001b[0;32m~/miniforge3/lib/python3.9/site-packages/tensorflow/python/eager/function.py\u001b[0m in \u001b[0;36mcall\u001b[0;34m(self, ctx, args, cancellation_manager)\u001b[0m\n\u001b[1;32m    589\u001b[0m       \u001b[0;32mwith\u001b[0m \u001b[0m_InterpolateFunctionError\u001b[0m\u001b[0;34m(\u001b[0m\u001b[0mself\u001b[0m\u001b[0;34m)\u001b[0m\u001b[0;34m:\u001b[0m\u001b[0;34m\u001b[0m\u001b[0;34m\u001b[0m\u001b[0m\n\u001b[1;32m    590\u001b[0m         \u001b[0;32mif\u001b[0m \u001b[0mcancellation_manager\u001b[0m \u001b[0;32mis\u001b[0m \u001b[0;32mNone\u001b[0m\u001b[0;34m:\u001b[0m\u001b[0;34m\u001b[0m\u001b[0;34m\u001b[0m\u001b[0m\n\u001b[0;32m--> 591\u001b[0;31m           outputs = execute.execute(\n\u001b[0m\u001b[1;32m    592\u001b[0m               \u001b[0mstr\u001b[0m\u001b[0;34m(\u001b[0m\u001b[0mself\u001b[0m\u001b[0;34m.\u001b[0m\u001b[0msignature\u001b[0m\u001b[0;34m.\u001b[0m\u001b[0mname\u001b[0m\u001b[0;34m)\u001b[0m\u001b[0;34m,\u001b[0m\u001b[0;34m\u001b[0m\u001b[0;34m\u001b[0m\u001b[0m\n\u001b[1;32m    593\u001b[0m               \u001b[0mnum_outputs\u001b[0m\u001b[0;34m=\u001b[0m\u001b[0mself\u001b[0m\u001b[0;34m.\u001b[0m\u001b[0m_num_outputs\u001b[0m\u001b[0;34m,\u001b[0m\u001b[0;34m\u001b[0m\u001b[0;34m\u001b[0m\u001b[0m\n",
      "\u001b[0;32m~/miniforge3/lib/python3.9/site-packages/tensorflow/python/eager/execute.py\u001b[0m in \u001b[0;36mquick_execute\u001b[0;34m(op_name, num_outputs, inputs, attrs, ctx, name)\u001b[0m\n\u001b[1;32m     57\u001b[0m   \u001b[0;32mtry\u001b[0m\u001b[0;34m:\u001b[0m\u001b[0;34m\u001b[0m\u001b[0;34m\u001b[0m\u001b[0m\n\u001b[1;32m     58\u001b[0m     \u001b[0mctx\u001b[0m\u001b[0;34m.\u001b[0m\u001b[0mensure_initialized\u001b[0m\u001b[0;34m(\u001b[0m\u001b[0;34m)\u001b[0m\u001b[0;34m\u001b[0m\u001b[0;34m\u001b[0m\u001b[0m\n\u001b[0;32m---> 59\u001b[0;31m     tensors = pywrap_tfe.TFE_Py_Execute(ctx._handle, device_name, op_name,\n\u001b[0m\u001b[1;32m     60\u001b[0m                                         inputs, attrs, num_outputs)\n\u001b[1;32m     61\u001b[0m   \u001b[0;32mexcept\u001b[0m \u001b[0mcore\u001b[0m\u001b[0;34m.\u001b[0m\u001b[0m_NotOkStatusException\u001b[0m \u001b[0;32mas\u001b[0m \u001b[0me\u001b[0m\u001b[0;34m:\u001b[0m\u001b[0;34m\u001b[0m\u001b[0;34m\u001b[0m\u001b[0m\n",
      "\u001b[0;31mKeyboardInterrupt\u001b[0m: "
     ]
    }
   ],
   "source": [
    "model = keras.models.Sequential([\n",
    "    keras.layers.SimpleRNN(20,return_sequences=True,input_shape=[None,1]),\n",
    "    keras.layers.SimpleRNN(20,return_sequences=True),\n",
    "    keras.layers.SimpleRNN(1)\n",
    "])\n",
    "model.compile(optimizer=\"Adam\",loss=\"mse\")\n",
    "model.fit(X_train,y_train,epochs=20,validation_data=(X_valid,y_valid))"
   ]
  },
  {
   "cell_type": "code",
   "execution_count": 46,
   "id": "2a58edd3",
   "metadata": {},
   "outputs": [
    {
     "name": "stdout",
     "output_type": "stream",
     "text": [
      "Epoch 1/20\n"
     ]
    },
    {
     "name": "stderr",
     "output_type": "stream",
     "text": [
      "2022-02-02 15:02:55.856618: I tensorflow/core/grappler/optimizers/custom_graph_optimizer_registry.cc:112] Plugin optimizer for device_type GPU is enabled.\n",
      "2022-02-02 15:02:55.977536: I tensorflow/core/grappler/optimizers/custom_graph_optimizer_registry.cc:112] Plugin optimizer for device_type GPU is enabled.\n",
      "2022-02-02 15:02:56.162316: I tensorflow/core/grappler/optimizers/custom_graph_optimizer_registry.cc:112] Plugin optimizer for device_type GPU is enabled.\n",
      "2022-02-02 15:02:56.226757: I tensorflow/core/grappler/optimizers/custom_graph_optimizer_registry.cc:112] Plugin optimizer for device_type GPU is enabled.\n",
      "2022-02-02 15:02:56.419866: I tensorflow/core/grappler/optimizers/custom_graph_optimizer_registry.cc:112] Plugin optimizer for device_type GPU is enabled.\n",
      "2022-02-02 15:02:57.581263: I tensorflow/core/grappler/optimizers/custom_graph_optimizer_registry.cc:112] Plugin optimizer for device_type GPU is enabled.\n",
      "2022-02-02 15:02:58.625518: I tensorflow/core/grappler/optimizers/custom_graph_optimizer_registry.cc:112] Plugin optimizer for device_type GPU is enabled.\n"
     ]
    },
    {
     "name": "stdout",
     "output_type": "stream",
     "text": [
      "219/219 [==============================] - ETA: 0s - loss: 0.1803"
     ]
    },
    {
     "name": "stderr",
     "output_type": "stream",
     "text": [
      "2022-02-02 15:03:08.228218: I tensorflow/core/grappler/optimizers/custom_graph_optimizer_registry.cc:112] Plugin optimizer for device_type GPU is enabled.\n",
      "2022-02-02 15:03:08.267767: I tensorflow/core/grappler/optimizers/custom_graph_optimizer_registry.cc:112] Plugin optimizer for device_type GPU is enabled.\n",
      "2022-02-02 15:03:08.325714: I tensorflow/core/grappler/optimizers/custom_graph_optimizer_registry.cc:112] Plugin optimizer for device_type GPU is enabled.\n",
      "2022-02-02 15:03:08.387871: I tensorflow/core/grappler/optimizers/custom_graph_optimizer_registry.cc:112] Plugin optimizer for device_type GPU is enabled.\n"
     ]
    },
    {
     "name": "stdout",
     "output_type": "stream",
     "text": [
      "219/219 [==============================] - 14s 48ms/step - loss: 0.1803 - val_loss: 0.1279\n",
      "Epoch 2/20\n",
      "219/219 [==============================] - 9s 43ms/step - loss: 0.1236 - val_loss: 0.1219\n",
      "Epoch 3/20\n",
      "219/219 [==============================] - 9s 43ms/step - loss: 0.1214 - val_loss: 0.1257\n",
      "Epoch 4/20\n",
      "219/219 [==============================] - 9s 43ms/step - loss: 0.1233 - val_loss: 0.1297\n",
      "Epoch 5/20\n",
      "219/219 [==============================] - 9s 43ms/step - loss: 0.1279 - val_loss: 0.1245\n",
      "Epoch 6/20\n",
      "219/219 [==============================] - 9s 43ms/step - loss: 0.1304 - val_loss: 0.1306\n",
      "Epoch 7/20\n",
      "219/219 [==============================] - 9s 43ms/step - loss: 0.1405 - val_loss: 0.1312\n",
      "Epoch 8/20\n",
      "219/219 [==============================] - 10s 43ms/step - loss: 0.1356 - val_loss: 0.1282\n",
      "Epoch 9/20\n",
      "219/219 [==============================] - 9s 43ms/step - loss: 0.1306 - val_loss: 0.1311\n",
      "Epoch 10/20\n",
      "219/219 [==============================] - 9s 43ms/step - loss: 0.1396 - val_loss: 0.1390\n",
      "Epoch 11/20\n",
      "219/219 [==============================] - 10s 43ms/step - loss: 0.1448 - val_loss: 0.1455\n",
      "Epoch 12/20\n",
      "219/219 [==============================] - 10s 44ms/step - loss: 0.1401 - val_loss: 0.1402\n",
      "Epoch 13/20\n",
      "219/219 [==============================] - 10s 44ms/step - loss: 0.1388 - val_loss: 0.1351\n",
      "Epoch 14/20\n",
      "219/219 [==============================] - 10s 44ms/step - loss: 0.1353 - val_loss: 0.1333\n",
      "Epoch 15/20\n",
      "219/219 [==============================] - 10s 44ms/step - loss: 0.1302 - val_loss: 0.1297\n",
      "Epoch 16/20\n",
      "219/219 [==============================] - 10s 44ms/step - loss: 0.1274 - val_loss: 0.1249\n",
      "Epoch 17/20\n",
      "219/219 [==============================] - 10s 44ms/step - loss: 0.1216 - val_loss: 0.1168\n",
      "Epoch 18/20\n",
      "219/219 [==============================] - 10s 44ms/step - loss: 0.1156 - val_loss: 0.1182\n",
      "Epoch 19/20\n",
      "219/219 [==============================] - 10s 44ms/step - loss: 0.1214 - val_loss: 0.1398\n",
      "Epoch 20/20\n",
      "219/219 [==============================] - 10s 45ms/step - loss: 0.1221 - val_loss: 0.1217\n"
     ]
    },
    {
     "data": {
      "text/plain": [
       "<keras.callbacks.History at 0x16840a0d0>"
      ]
     },
     "execution_count": 46,
     "metadata": {},
     "output_type": "execute_result"
    }
   ],
   "source": [
    "model = keras.models.Sequential([\n",
    "    keras.layers.GRU(20,return_sequences=True,input_shape=[None,1]),\n",
    "    keras.layers.GRU(20,return_sequences=True),\n",
    "    keras.layers.GRU(1)\n",
    "])\n",
    "model.compile(optimizer=\"Adam\",loss=\"mse\")\n",
    "model.fit(X_train,y_train,epochs=20,validation_data=(X_valid,y_valid))"
   ]
  },
  {
   "cell_type": "code",
   "execution_count": 48,
   "id": "1de2cd61",
   "metadata": {},
   "outputs": [
    {
     "name": "stdout",
     "output_type": "stream",
     "text": [
      "Epoch 1/20\n",
      "219/219 [==============================] - 10s 45ms/step - loss: 0.1738 - val_loss: 0.1644\n",
      "Epoch 2/20\n",
      "219/219 [==============================] - 10s 44ms/step - loss: 0.1473 - val_loss: 0.1394\n",
      "Epoch 3/20\n",
      "219/219 [==============================] - 10s 45ms/step - loss: 0.1375 - val_loss: 0.1345\n",
      "Epoch 4/20\n",
      "219/219 [==============================] - 10s 45ms/step - loss: 0.1305 - val_loss: 0.1299\n",
      "Epoch 5/20\n",
      "219/219 [==============================] - 10s 44ms/step - loss: 0.1151 - val_loss: 0.1059\n",
      "Epoch 6/20\n",
      "219/219 [==============================] - 10s 44ms/step - loss: 0.1061 - val_loss: 0.1003\n",
      "Epoch 7/20\n",
      "219/219 [==============================] - 10s 45ms/step - loss: 0.1005 - val_loss: 0.0976\n",
      "Epoch 8/20\n",
      "219/219 [==============================] - 10s 45ms/step - loss: 0.0982 - val_loss: 0.0989\n",
      "Epoch 9/20\n",
      "219/219 [==============================] - 10s 45ms/step - loss: 0.0990 - val_loss: 0.0998\n",
      "Epoch 10/20\n",
      "219/219 [==============================] - 10s 45ms/step - loss: 0.1016 - val_loss: 0.1029\n",
      "Epoch 11/20\n",
      "219/219 [==============================] - 10s 45ms/step - loss: 0.0999 - val_loss: 0.0995\n",
      "Epoch 12/20\n",
      "219/219 [==============================] - 10s 45ms/step - loss: 0.1003 - val_loss: 0.1000\n",
      "Epoch 13/20\n",
      "219/219 [==============================] - 10s 45ms/step - loss: 0.0965 - val_loss: 0.0923\n",
      "Epoch 14/20\n",
      "219/219 [==============================] - 10s 45ms/step - loss: 0.0961 - val_loss: 0.0960\n",
      "Epoch 15/20\n",
      "219/219 [==============================] - 10s 45ms/step - loss: 0.0941 - val_loss: 0.0943\n",
      "Epoch 16/20\n",
      "219/219 [==============================] - 10s 45ms/step - loss: 0.0961 - val_loss: 0.0935\n",
      "Epoch 17/20\n",
      "219/219 [==============================] - 10s 45ms/step - loss: 0.0957 - val_loss: 0.1066\n",
      "Epoch 18/20\n",
      "219/219 [==============================] - 10s 45ms/step - loss: 0.0987 - val_loss: 0.0997\n",
      "Epoch 19/20\n",
      "219/219 [==============================] - 10s 45ms/step - loss: 0.1018 - val_loss: 0.1071\n",
      "Epoch 20/20\n",
      "219/219 [==============================] - 10s 45ms/step - loss: 0.1050 - val_loss: 0.1047\n"
     ]
    },
    {
     "data": {
      "text/plain": [
       "<keras.callbacks.History at 0x176ed7880>"
      ]
     },
     "execution_count": 48,
     "metadata": {},
     "output_type": "execute_result"
    }
   ],
   "source": [
    "model.fit(X_train,y_train,epochs=20,validation_data=(X_valid,y_valid))"
   ]
  },
  {
   "cell_type": "code",
   "execution_count": null,
   "id": "59fb5d8e",
   "metadata": {},
   "outputs": [],
   "source": []
  }
 ],
 "metadata": {
  "kernelspec": {
   "display_name": "Python 3 (ipykernel)",
   "language": "python",
   "name": "python3"
  },
  "language_info": {
   "codemirror_mode": {
    "name": "ipython",
    "version": 3
   },
   "file_extension": ".py",
   "mimetype": "text/x-python",
   "name": "python",
   "nbconvert_exporter": "python",
   "pygments_lexer": "ipython3",
   "version": "3.9.7"
  }
 },
 "nbformat": 4,
 "nbformat_minor": 5
}
